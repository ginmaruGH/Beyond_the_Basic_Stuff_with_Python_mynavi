{
 "cells": [
  {
   "cell_type": "markdown",
   "metadata": {},
   "source": [
    "# Ch.03 Blackを使ってコードフォーマットを整える\n",
    "\n",
    "## 3.1 こんなコードは嫌われる"
   ]
  },
  {
   "cell_type": "markdown",
   "metadata": {},
   "source": [
    "## 3.2 スタイルガイドとPEP 8\n",
    "\n",
    "[PEP 8](https://www.python.org/dev/peps/pep-0008/)\n",
    "\n",
    "[pep8-ja](https://pep8-ja.readthedocs.io/ja/latest/#)"
   ]
  },
  {
   "cell_type": "markdown",
   "metadata": {},
   "source": [
    "## 3.3 スペース（空白文字）の使い方\n",
    "\n",
    "### 3.3.1 インデントは空白文字を使う"
   ]
  },
  {
   "cell_type": "code",
   "execution_count": 1,
   "metadata": {},
   "outputs": [
    {
     "name": "stdout",
     "output_type": "stream",
     "text": [
      "Hello there, friend!\n",
      "How are you?\n",
      "Hello there, friend!\tHow are you?\n"
     ]
    }
   ],
   "source": [
    "print('Hello there, friend!\\nHow are you?')\n",
    "print('Hello there, friend!\\tHow are you?')"
   ]
  },
  {
   "cell_type": "markdown",
   "metadata": {},
   "source": [
    "### 3.3.1 行内のスペース\n",
    "\n",
    "- 演算子と識別子の間に半角スペースを入れる\n",
    "- 区切り記号の前ではなく、後にスペースを入れる\n",
    "- ピリオドの前後にはスペースを入れない\n",
    "- 関数、メソッド、コンテナ名の後にスペースを入れない\n",
    "- 開きカッコの直後や閉じカッコの直前にスペースを入れない\n",
    "- 行末のコメントの前に「2つ」スペースを入れる\n",
    "  - `print(Hello, world!)  # ハローワールドを表示する`"
   ]
  },
  {
   "cell_type": "markdown",
   "metadata": {},
   "source": [
    "## 3.4 空行挿入\n",
    "\n",
    "- 関数は空行2つ\n",
    "- クラスは空行2つ\n",
    "- クラス内メソッドは空行1つ\n",
    "- モジュールごとに1つのインポート文を書く"
   ]
  },
  {
   "cell_type": "markdown",
   "metadata": {},
   "source": [
    "## 3.5 妥協しないコードフォーマットツール：Black\n",
    "\n",
    "\n",
    "- [Black](https://github.com/psf/black)\n",
    "\n",
    "```bash\n",
    "pip install black\n",
    "```\n",
    "\n",
    "- 3.5.1 Blackのインストール\n",
    "- 3.5.2 コマンドラインからBlackを実行する\n",
    "  - コードの長さ調整\n",
    "  - ダブルクォートを使った文字列設定の無効化\n",
    "  - Blackによる整形結果をプレビューする\n",
    "- 3.5.3 コードの一部でBlackを無効にする\n",
    "\n",
    "```python\n",
    "# fmt: off\n",
    "print('Hello')\n",
    "# fmt: on\n",
    "```"
   ]
  }
 ],
 "metadata": {
  "kernelspec": {
   "display_name": "Python 3.9.13 ('mdl_env': venv)",
   "language": "python",
   "name": "python3"
  },
  "language_info": {
   "codemirror_mode": {
    "name": "ipython",
    "version": 3
   },
   "file_extension": ".py",
   "mimetype": "text/x-python",
   "name": "python",
   "nbconvert_exporter": "python",
   "pygments_lexer": "ipython3",
   "version": "3.9.13"
  },
  "orig_nbformat": 4,
  "vscode": {
   "interpreter": {
    "hash": "aa8167867f6a2d317c496115bb0cfafdb416e5200d451fa623aaef7bf99c31e5"
   }
  }
 },
 "nbformat": 4,
 "nbformat_minor": 2
}
