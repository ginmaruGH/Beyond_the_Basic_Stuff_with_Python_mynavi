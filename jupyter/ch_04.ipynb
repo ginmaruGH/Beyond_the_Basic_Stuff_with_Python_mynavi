{
 "cells": [
  {
   "cell_type": "markdown",
   "metadata": {},
   "source": [
    "# Ch.04 わかりやすいネーミング\n",
    "\n",
    "> コンピューターサイエンスでもっとも難しい２つの問題は、\n",
    "> 名前をつけること、キャッシュの無効化、そして境界エラーである。\n",
    "\n",
    "- `foo`、`bar`\n",
    "  - FUBER（認識できないほど、混乱している）"
   ]
  },
  {
   "cell_type": "markdown",
   "metadata": {},
   "source": [
    "## 4.1 ケーススタイル\n",
    "\n",
    "- snake_case\n",
    "- camelCase\n",
    "- PascalCase"
   ]
  },
  {
   "cell_type": "markdown",
   "metadata": {},
   "source": [
    "## 4.2 PEP 8 の命名規則\n",
    "\n",
    "- 文字はすべてASCII文字、アルファベットの大文字と小文字を使用する。\n",
    "- モジュール名は、\n",
    "  - 全て小文字の短いものにする。\n",
    "- クラス名は、\n",
    "  - パスカルケース（PascalCase）で書く。\n",
    "- 定数変数は、\n",
    "  - 大文字のスネークケース（SNAKE_CASE）で書く。\n",
    "- 関数名、メソッド名、変数名は、\n",
    "  - 小文字のスネークケース（snake_case）で書く。\n",
    "- メソッドの第1引数は、\n",
    "  - つねに`self`（小文字）とする。\n",
    "- クラスメソッドの第1引数は、\n",
    "  - つねに`cls`（小文字）とする。\n",
    "- クラスのprivate属性は、\n",
    "  - つねにアンダースコア（`_`）で始める。\n",
    "- クラスのpublic属性は、\n",
    "  - アンダースコア（`_`）で始めない。\n",
    "\n",
    "\n",
    "- [Naming Conventions](https://python.org/dev/peps/pep-0008/#naming-conventions)\n",
    "- [Python コードのスタイルガイド](https://pep8-ja.readthedocs.io/ja/latest)"
   ]
  },
  {
   "cell_type": "markdown",
   "metadata": {},
   "source": [
    "## 4.3 適度な長さ\n",
    "\n",
    "### 4.3.1 短すぎる名前\n",
    "\n",
    "### 4.3.2 長過ぎる名前"
   ]
  },
  {
   "cell_type": "markdown",
   "metadata": {},
   "source": [
    "## 4.4 検索しやすい名前\n",
    "\n",
    "## 4.5 ジョーク、ダジャレ、文化的な言及を避ける"
   ]
  },
  {
   "cell_type": "markdown",
   "metadata": {},
   "source": [
    "## 4.6 ビルトイン（組み込み）の名前を上書きしない\n",
    "\n",
    "- `all`\n",
    "- `any`\n",
    "- `date`\n",
    "- `email`\n",
    "- `file`\n",
    "- `format`\n",
    "- `hash`\n",
    "- `id`\n",
    "- `input`\n",
    "- `list`\n",
    "- `min`\n",
    "- `max`\n",
    "- `object`\n",
    "- `open`\n",
    "- `random`\n",
    "- `set`\n",
    "- `str`\n",
    "- `sum`\n",
    "- `test`\n",
    "- `type`"
   ]
  },
  {
   "cell_type": "markdown",
   "metadata": {},
   "source": [
    "## 4.7 最悪な変数名\n",
    "\n",
    "## 4.8 まとめ"
   ]
  }
 ],
 "metadata": {
  "language_info": {
   "name": "python"
  },
  "orig_nbformat": 4
 },
 "nbformat": 4,
 "nbformat_minor": 2
}
