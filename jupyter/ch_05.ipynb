{
 "cells": [
  {
   "cell_type": "markdown",
   "metadata": {},
   "source": [
    "# Ch.05 怪しいコード臭"
   ]
  },
  {
   "cell_type": "markdown",
   "metadata": {},
   "source": [
    "## 5.1 重複したコード\n",
    "\n",
    "- 重複を排除する"
   ]
  },
  {
   "cell_type": "markdown",
   "metadata": {},
   "source": [
    "## 5.2 マジックナンバー\n",
    "\n",
    "- 定数に置き換える"
   ]
  },
  {
   "cell_type": "markdown",
   "metadata": {},
   "source": [
    "## 5.3 コメントアウトされたコードとデッドコード\n",
    "\n",
    "- デッドコード\n",
    "  - 到達できない\n",
    "  - 論理的に実行できないコード"
   ]
  },
  {
   "cell_type": "code",
   "execution_count": 1,
   "metadata": {},
   "outputs": [
    {
     "ename": "NotImplementedError",
     "evalue": "",
     "output_type": "error",
     "traceback": [
      "\u001b[0;31m---------------------------------------------------------------------------\u001b[0m",
      "\u001b[0;31mNotImplementedError\u001b[0m                       Traceback (most recent call last)",
      "\u001b[1;32m/Users/takeru/Library/CloudStorage/OneDrive-個人用/Learn/Python/Beyond_the_Basic_Stuff_with_Python_mynavi/jupyter/ch_05.ipynb Cell 5'\u001b[0m in \u001b[0;36m<cell line: 8>\u001b[0;34m()\u001b[0m\n\u001b[1;32m      <a href='vscode-notebook-cell:/Users/takeru/Library/CloudStorage/OneDrive-%E5%80%8B%E4%BA%BA%E7%94%A8/Learn/Python/Beyond_the_Basic_Stuff_with_Python_mynavi/jupyter/ch_05.ipynb#ch0000005?line=4'>5</a>\u001b[0m \u001b[39mdef\u001b[39;00m \u001b[39mexampleFunction\u001b[39m():\n\u001b[1;32m      <a href='vscode-notebook-cell:/Users/takeru/Library/CloudStorage/OneDrive-%E5%80%8B%E4%BA%BA%E7%94%A8/Learn/Python/Beyond_the_Basic_Stuff_with_Python_mynavi/jupyter/ch_05.ipynb#ch0000005?line=5'>6</a>\u001b[0m     \u001b[39mraise\u001b[39;00m \u001b[39mNotImplementedError\u001b[39;00m\n\u001b[0;32m----> <a href='vscode-notebook-cell:/Users/takeru/Library/CloudStorage/OneDrive-%E5%80%8B%E4%BA%BA%E7%94%A8/Learn/Python/Beyond_the_Basic_Stuff_with_Python_mynavi/jupyter/ch_05.ipynb#ch0000005?line=7'>8</a>\u001b[0m exampleFunction()\n",
      "\u001b[1;32m/Users/takeru/Library/CloudStorage/OneDrive-個人用/Learn/Python/Beyond_the_Basic_Stuff_with_Python_mynavi/jupyter/ch_05.ipynb Cell 5'\u001b[0m in \u001b[0;36mexampleFunction\u001b[0;34m()\u001b[0m\n\u001b[1;32m      <a href='vscode-notebook-cell:/Users/takeru/Library/CloudStorage/OneDrive-%E5%80%8B%E4%BA%BA%E7%94%A8/Learn/Python/Beyond_the_Basic_Stuff_with_Python_mynavi/jupyter/ch_05.ipynb#ch0000005?line=4'>5</a>\u001b[0m \u001b[39mdef\u001b[39;00m \u001b[39mexampleFunction\u001b[39m():\n\u001b[0;32m----> <a href='vscode-notebook-cell:/Users/takeru/Library/CloudStorage/OneDrive-%E5%80%8B%E4%BA%BA%E7%94%A8/Learn/Python/Beyond_the_Basic_Stuff_with_Python_mynavi/jupyter/ch_05.ipynb#ch0000005?line=5'>6</a>\u001b[0m     \u001b[39mraise\u001b[39;00m \u001b[39mNotImplementedError\u001b[39;00m\n",
      "\u001b[0;31mNotImplementedError\u001b[0m: "
     ]
    }
   ],
   "source": [
    "# スタブ\n",
    "# まだ実装されていない関数やクラスなど、\n",
    "# 将来のコードのための一時的な措置\n",
    "\n",
    "def exampleFunction():\n",
    "    raise NotImplementedError\n",
    "    # pass\n",
    "\n",
    "exampleFunction()"
   ]
  },
  {
   "cell_type": "markdown",
   "metadata": {},
   "source": [
    "## 5.4 プリントデバッグ\n",
    "\n",
    "- デバッガーを使う\n",
    "- ログファイルを設定する\n",
    "- loggingモジュール（Python組み込み）\n",
    "- [Automate the Boring Stuff with Python](https://automatetheboringstuff.com/)\n",
    "  - [11 DEBUGGING](https://autbor.com/2e/c11)"
   ]
  },
  {
   "cell_type": "markdown",
   "metadata": {},
   "source": [
    "## 5.5 数字付きの変数名\n",
    "\n",
    "- 意味がはっきりとわかる変数名をつける\n",
    "- リストやセットのデータ構造を使う"
   ]
  },
  {
   "cell_type": "markdown",
   "metadata": {},
   "source": [
    "## 5.6 関数やモジュールにすべきクラス\n",
    "\n",
    "[Stop Writing Classes（クラスを書くのをやめよう）](https://youtu.be/o9pEzgHorH0)"
   ]
  },
  {
   "cell_type": "markdown",
   "metadata": {},
   "source": [
    "## 5.7 内包表記の中に内包表記がある\n",
    "\n",
    "- 入れ子にするのはやりすぎ"
   ]
  },
  {
   "cell_type": "code",
   "execution_count": 5,
   "metadata": {},
   "outputs": [
    {
     "data": {
      "text/plain": [
       "['1',\n",
       " '2',\n",
       " '3',\n",
       " '4',\n",
       " '6',\n",
       " '7',\n",
       " '8',\n",
       " '9',\n",
       " '11',\n",
       " '12',\n",
       " '13',\n",
       " '14',\n",
       " '16',\n",
       " '17',\n",
       " '18',\n",
       " '19',\n",
       " '21',\n",
       " '22',\n",
       " '23',\n",
       " '24',\n",
       " '26',\n",
       " '27',\n",
       " '28',\n",
       " '29',\n",
       " '31',\n",
       " '32',\n",
       " '33',\n",
       " '34',\n",
       " '36',\n",
       " '37',\n",
       " '38',\n",
       " '39',\n",
       " '41',\n",
       " '42',\n",
       " '43',\n",
       " '44',\n",
       " '46',\n",
       " '47',\n",
       " '48',\n",
       " '49']"
      ]
     },
     "execution_count": 5,
     "metadata": {},
     "output_type": "execute_result"
    }
   ],
   "source": [
    "spam = []\n",
    "for number in range(100):\n",
    "    if number % 5 != 0:\n",
    "        spam.append(str(number))\n",
    "\n",
    "spam"
   ]
  },
  {
   "cell_type": "code",
   "execution_count": 4,
   "metadata": {},
   "outputs": [
    {
     "data": {
      "text/plain": [
       "['1',\n",
       " '2',\n",
       " '3',\n",
       " '4',\n",
       " '6',\n",
       " '7',\n",
       " '8',\n",
       " '9',\n",
       " '11',\n",
       " '12',\n",
       " '13',\n",
       " '14',\n",
       " '16',\n",
       " '17',\n",
       " '18',\n",
       " '19',\n",
       " '21',\n",
       " '22',\n",
       " '23',\n",
       " '24',\n",
       " '26',\n",
       " '27',\n",
       " '28',\n",
       " '29',\n",
       " '31',\n",
       " '32',\n",
       " '33',\n",
       " '34',\n",
       " '36',\n",
       " '37',\n",
       " '38',\n",
       " '39',\n",
       " '41',\n",
       " '42',\n",
       " '43',\n",
       " '44',\n",
       " '46',\n",
       " '47',\n",
       " '48',\n",
       " '49',\n",
       " '51',\n",
       " '52',\n",
       " '53',\n",
       " '54',\n",
       " '56',\n",
       " '57',\n",
       " '58',\n",
       " '59',\n",
       " '61',\n",
       " '62',\n",
       " '63',\n",
       " '64',\n",
       " '66',\n",
       " '67',\n",
       " '68',\n",
       " '69',\n",
       " '71',\n",
       " '72',\n",
       " '73',\n",
       " '74',\n",
       " '76',\n",
       " '77',\n",
       " '78',\n",
       " '79',\n",
       " '81',\n",
       " '82',\n",
       " '83',\n",
       " '84',\n",
       " '86',\n",
       " '87',\n",
       " '88',\n",
       " '89',\n",
       " '91',\n",
       " '92',\n",
       " '93',\n",
       " '94',\n",
       " '96',\n",
       " '97',\n",
       " '98',\n",
       " '99']"
      ]
     },
     "execution_count": 4,
     "metadata": {},
     "output_type": "execute_result"
    }
   ],
   "source": [
    "# 内包表記\n",
    "spam = [str(number) for number in range(100) if number % 5 != 0]\n",
    "spam"
   ]
  },
  {
   "cell_type": "code",
   "execution_count": 9,
   "metadata": {},
   "outputs": [
    {
     "data": {
      "text/plain": [
       "{'1',\n",
       " '11',\n",
       " '12',\n",
       " '13',\n",
       " '14',\n",
       " '16',\n",
       " '17',\n",
       " '18',\n",
       " '19',\n",
       " '2',\n",
       " '21',\n",
       " '22',\n",
       " '23',\n",
       " '24',\n",
       " '26',\n",
       " '27',\n",
       " '28',\n",
       " '29',\n",
       " '3',\n",
       " '31',\n",
       " '32',\n",
       " '33',\n",
       " '34',\n",
       " '36',\n",
       " '37',\n",
       " '38',\n",
       " '39',\n",
       " '4',\n",
       " '41',\n",
       " '42',\n",
       " '43',\n",
       " '44',\n",
       " '46',\n",
       " '47',\n",
       " '48',\n",
       " '49',\n",
       " '51',\n",
       " '52',\n",
       " '53',\n",
       " '54',\n",
       " '56',\n",
       " '57',\n",
       " '58',\n",
       " '59',\n",
       " '6',\n",
       " '61',\n",
       " '62',\n",
       " '63',\n",
       " '64',\n",
       " '66',\n",
       " '67',\n",
       " '68',\n",
       " '69',\n",
       " '7',\n",
       " '71',\n",
       " '72',\n",
       " '73',\n",
       " '74',\n",
       " '76',\n",
       " '77',\n",
       " '78',\n",
       " '79',\n",
       " '8',\n",
       " '81',\n",
       " '82',\n",
       " '83',\n",
       " '84',\n",
       " '86',\n",
       " '87',\n",
       " '88',\n",
       " '89',\n",
       " '9',\n",
       " '91',\n",
       " '92',\n",
       " '93',\n",
       " '94',\n",
       " '96',\n",
       " '97',\n",
       " '98',\n",
       " '99'}"
      ]
     },
     "execution_count": 9,
     "metadata": {},
     "output_type": "execute_result"
    }
   ],
   "source": [
    "# 集合内包\n",
    "spam = {str(number) for number in range(100) if number % 5 != 0}\n",
    "spam"
   ]
  },
  {
   "cell_type": "code",
   "execution_count": 10,
   "metadata": {},
   "outputs": [
    {
     "data": {
      "text/plain": [
       "{'1': 1,\n",
       " '2': 2,\n",
       " '3': 3,\n",
       " '4': 4,\n",
       " '6': 6,\n",
       " '7': 7,\n",
       " '8': 8,\n",
       " '9': 9,\n",
       " '11': 11,\n",
       " '12': 12,\n",
       " '13': 13,\n",
       " '14': 14,\n",
       " '16': 16,\n",
       " '17': 17,\n",
       " '18': 18,\n",
       " '19': 19,\n",
       " '21': 21,\n",
       " '22': 22,\n",
       " '23': 23,\n",
       " '24': 24,\n",
       " '26': 26,\n",
       " '27': 27,\n",
       " '28': 28,\n",
       " '29': 29,\n",
       " '31': 31,\n",
       " '32': 32,\n",
       " '33': 33,\n",
       " '34': 34,\n",
       " '36': 36,\n",
       " '37': 37,\n",
       " '38': 38,\n",
       " '39': 39,\n",
       " '41': 41,\n",
       " '42': 42,\n",
       " '43': 43,\n",
       " '44': 44,\n",
       " '46': 46,\n",
       " '47': 47,\n",
       " '48': 48,\n",
       " '49': 49,\n",
       " '51': 51,\n",
       " '52': 52,\n",
       " '53': 53,\n",
       " '54': 54,\n",
       " '56': 56,\n",
       " '57': 57,\n",
       " '58': 58,\n",
       " '59': 59,\n",
       " '61': 61,\n",
       " '62': 62,\n",
       " '63': 63,\n",
       " '64': 64,\n",
       " '66': 66,\n",
       " '67': 67,\n",
       " '68': 68,\n",
       " '69': 69,\n",
       " '71': 71,\n",
       " '72': 72,\n",
       " '73': 73,\n",
       " '74': 74,\n",
       " '76': 76,\n",
       " '77': 77,\n",
       " '78': 78,\n",
       " '79': 79,\n",
       " '81': 81,\n",
       " '82': 82,\n",
       " '83': 83,\n",
       " '84': 84,\n",
       " '86': 86,\n",
       " '87': 87,\n",
       " '88': 88,\n",
       " '89': 89,\n",
       " '91': 91,\n",
       " '92': 92,\n",
       " '93': 93,\n",
       " '94': 94,\n",
       " '96': 96,\n",
       " '97': 97,\n",
       " '98': 98,\n",
       " '99': 99}"
      ]
     },
     "execution_count": 10,
     "metadata": {},
     "output_type": "execute_result"
    }
   ],
   "source": [
    "# 辞書内包\n",
    "spam = {str(number): number for number in range(100) if number % 5 != 0}\n",
    "spam"
   ]
  },
  {
   "cell_type": "code",
   "execution_count": 13,
   "metadata": {},
   "outputs": [
    {
     "data": {
      "text/plain": [
       "[['0', '1', '2', '3'], ['4'], ['5', '6'], ['7', '8', '9']]"
      ]
     },
     "execution_count": 13,
     "metadata": {},
     "output_type": "execute_result"
    }
   ],
   "source": [
    "# 内包表記の中に内包表記を入れる\n",
    "nestedIntList = [[0, 1, 2, 3], [4], [5, 6], [7, 8, 9]]\n",
    "nestedStrList = [[str(i) for i in sublist] for sublist in nestedIntList]\n",
    "nestedStrList"
   ]
  },
  {
   "cell_type": "code",
   "execution_count": 15,
   "metadata": {},
   "outputs": [
    {
     "data": {
      "text/plain": [
       "[['0', '1', '2', '3'], ['4'], ['5', '6'], ['7', '8', '9']]"
      ]
     },
     "execution_count": 15,
     "metadata": {},
     "output_type": "execute_result"
    }
   ],
   "source": [
    "# 内包表記の中に内包表記をループに展開する\n",
    "nestedIntList = [[0, 1, 2, 3], [4], [5, 6], [7, 8, 9]]\n",
    "nestedStrList = []\n",
    "for sublist in nestedIntList:\n",
    "    nestedStrList.append([str(i) for i in sublist])\n",
    "nestedStrList"
   ]
  },
  {
   "cell_type": "code",
   "execution_count": 16,
   "metadata": {},
   "outputs": [
    {
     "data": {
      "text/plain": [
       "[0, 1, 2, 3, 4, 5, 6, 7, 8, 9]"
      ]
     },
     "execution_count": 16,
     "metadata": {},
     "output_type": "execute_result"
    }
   ],
   "source": [
    "# 入れ子になったリストをフラットなリストにする\n",
    "# 内包表記の中に内包表記する\n",
    "nestedList = [[0, 1, 2, 3], [4], [5, 6], [7, 8, 9]]\n",
    "flatList = [num for sublist in nestedList for num in sublist]\n",
    "flatList"
   ]
  },
  {
   "cell_type": "code",
   "execution_count": 17,
   "metadata": {},
   "outputs": [
    {
     "data": {
      "text/plain": [
       "[0, 1, 2, 3, 4, 5, 6, 7, 8, 9]"
      ]
     },
     "execution_count": 17,
     "metadata": {},
     "output_type": "execute_result"
    }
   ],
   "source": [
    "# 入れ子になったリストをフラットなリストにする\n",
    "# for文を使う\n",
    "nestedList = [[0, 1, 2, 3], [4], [5, 6], [7, 8, 9]]\n",
    "flatList = []\n",
    "for sublist in nestedList:\n",
    "    for num in sublist:\n",
    "        flatList.append(num)\n",
    "flatList"
   ]
  },
  {
   "cell_type": "markdown",
   "metadata": {},
   "source": [
    "## 5.8 空の例外ブロックと不十分なエラーメッセージ\n",
    "\n",
    "- `expect`ブロック\n",
    "  - `pass`文\n",
    "- 発生し得るすべての例外を処理できなければ、未完成のプログラム。"
   ]
  },
  {
   "cell_type": "markdown",
   "metadata": {},
   "source": [
    "## 5.9 コード臭の迷信\n",
    "\n",
    "### 5.9.1 迷信：関数の最後は`return`文を１つだけ入れるべき\n",
    "\n",
    "- 関数やメソッドの中に複数の`return`文があっても問題ない。\n",
    "\n",
    "### 5.9.2 迷信：関数内での`try`文は1つまで\n",
    "\n",
    "- 関数には複数の`try-except`文があっても、\n",
    "- 関数内のコード全部を覆うような書き方になっても、\n",
    "- 問題ない。\n",
    "\n",
    "### 5.9.3 迷信：フラグ引数はダメ\n",
    "\n",
    "- フラグ引数\n",
    "  - 関数やメソッドの読み出しに対するブール値の引数\n",
    "\n",
    "### 5.9.4 迷信：グローバル変数はダメ\n",
    "\n",
    "- グローバル定数\n",
    "- 小さなプログラム\n",
    "- 「グローバル変数はダメ」というのは、単純すぎる考え\n",
    "\n",
    "### 5.9.5 迷信：コメントは必要ない\n",
    "\n",
    "- 実際に問題が起こるとき\n",
    "  - コメントが少なすぎる\n",
    "  - コメントがまったくない\n"
   ]
  }
 ],
 "metadata": {
  "kernelspec": {
   "display_name": "Python 3.9.13 ('bbsp_env': venv)",
   "language": "python",
   "name": "python3"
  },
  "language_info": {
   "codemirror_mode": {
    "name": "ipython",
    "version": 3
   },
   "file_extension": ".py",
   "mimetype": "text/x-python",
   "name": "python",
   "nbconvert_exporter": "python",
   "pygments_lexer": "ipython3",
   "version": "3.9.13"
  },
  "orig_nbformat": 4,
  "vscode": {
   "interpreter": {
    "hash": "41766856ccac8481a99e9a987cf3d4692617aa51270f3852f64eefae6a9e02e0"
   }
  }
 },
 "nbformat": 4,
 "nbformat_minor": 2
}
