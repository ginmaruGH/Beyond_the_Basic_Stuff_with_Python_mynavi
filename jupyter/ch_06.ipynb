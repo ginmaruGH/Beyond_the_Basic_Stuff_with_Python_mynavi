{
 "cells": [
  {
   "cell_type": "markdown",
   "metadata": {},
   "source": [
    "# Ch.06 パイソニックなコードを書こう\n",
    "\n",
    "- Pythonista\n",
    "  - Python使い\n",
    "  - 構文や標準ライブラリー以上の知識が必要\n",
    "  - イディオム\n",
    "    - Python特有のコーディング手法\n",
    "    - pythonic"
   ]
  },
  {
   "cell_type": "markdown",
   "metadata": {},
   "source": [
    "## 6.1 Pythonの禅\n",
    "\n",
    "- 醜いコードより美しいコードを。\n",
    "- 暗示よりも明示を。\n",
    "- 単純は複雑よりよし。複雑は難解よりよし。\n",
    "- ネストは浅く。\n",
    "- 適度な隙間を。\n",
    "- 読みやすさは善。\n",
    "- 特殊な状況は特例の理由にはならない。しかし実用性は純粋さに勝る。\n",
    "- エラーは決して見過ごしてはならない。（意図的に隠されていない限りは）\n",
    "- 曖昧な部分に出くわしても、推測で片付けてはならない。\n",
    "- 誰が見てもわかる書き方は必ずあるはず。それが唯一なら尚よし。\n",
    "- 「オランダ人でないとわからにかもしれないけどね。」\n",
    "- 何もないより、何かあるほうばマシだ。しかし、慌てて何かするより何もない方がマシな場合も多い。\n",
    "- 実装の説明が難しいのは悪いアイデア。実装の説明がかんたんならよいアイデアかもしれない。\n",
    "- 名前空間は素晴らしい。積極的に使うべし。\n"
   ]
  },
  {
   "cell_type": "code",
   "execution_count": 1,
   "metadata": {},
   "outputs": [
    {
     "name": "stdout",
     "output_type": "stream",
     "text": [
      "The Zen of Python, by Tim Peters\n",
      "\n",
      "Beautiful is better than ugly.\n",
      "Explicit is better than implicit.\n",
      "Simple is better than complex.\n",
      "Complex is better than complicated.\n",
      "Flat is better than nested.\n",
      "Sparse is better than dense.\n",
      "Readability counts.\n",
      "Special cases aren't special enough to break the rules.\n",
      "Although practicality beats purity.\n",
      "Errors should never pass silently.\n",
      "Unless explicitly silenced.\n",
      "In the face of ambiguity, refuse the temptation to guess.\n",
      "There should be one-- and preferably only one --obvious way to do it.\n",
      "Although that way may not be obvious at first unless you're Dutch.\n",
      "Now is better than never.\n",
      "Although never is often better than *right* now.\n",
      "If the implementation is hard to explain, it's a bad idea.\n",
      "If the implementation is easy to explain, it may be a good idea.\n",
      "Namespaces are one honking great idea -- let's do more of those!\n"
     ]
    }
   ],
   "source": [
    "import this"
   ]
  },
  {
   "cell_type": "markdown",
   "metadata": {},
   "source": [
    "## 6.2 インデント愛を伝えたい"
   ]
  },
  {
   "cell_type": "code",
   "execution_count": 2,
   "metadata": {},
   "outputs": [
    {
     "ename": "SyntaxError",
     "evalue": "not a chance (3905450354.py, line 1)",
     "output_type": "error",
     "traceback": [
      "\u001b[0;36m  Input \u001b[0;32mIn [2]\u001b[0;36m\u001b[0m\n\u001b[0;31m    from __future__ import braces\u001b[0m\n\u001b[0m    ^\u001b[0m\n\u001b[0;31mSyntaxError\u001b[0m\u001b[0;31m:\u001b[0m not a chance\n"
     ]
    }
   ],
   "source": [
    "from __future__ import braces"
   ]
  },
  {
   "cell_type": "markdown",
   "metadata": {},
   "source": [
    "## 6.3 誤用の多い構文"
   ]
  },
  {
   "cell_type": "markdown",
   "metadata": {},
   "source": [
    "### 6.3.1 `range()`ではなく`enumerate()`を使う"
   ]
  },
  {
   "cell_type": "code",
   "execution_count": 3,
   "metadata": {},
   "outputs": [
    {
     "name": "stdout",
     "output_type": "stream",
     "text": [
      "0 cat\n",
      "1 dog\n",
      "2 moose\n"
     ]
    }
   ],
   "source": [
    "animals = ['cat', 'dog', 'moose']\n",
    "for i in range(len(animals)):\n",
    "    print(i, animals[i])"
   ]
  },
  {
   "cell_type": "code",
   "execution_count": 4,
   "metadata": {},
   "outputs": [
    {
     "name": "stdout",
     "output_type": "stream",
     "text": [
      "0 cat\n",
      "1 dog\n",
      "2 moose\n"
     ]
    }
   ],
   "source": [
    "# パイソニックなコード\n",
    "animals = ['cat', 'dog', 'moose']\n",
    "for i, animal in enumerate(animals):\n",
    "    print(i, animal)"
   ]
  },
  {
   "cell_type": "code",
   "execution_count": 5,
   "metadata": {},
   "outputs": [
    {
     "name": "stdout",
     "output_type": "stream",
     "text": [
      "cat\n",
      "dog\n",
      "moose\n"
     ]
    }
   ],
   "source": [
    "# パイソニックなコード\n",
    "animals = ['cat', 'dog', 'moose']\n",
    "for animal in animals:\n",
    "    print(animal)"
   ]
  },
  {
   "cell_type": "markdown",
   "metadata": {},
   "source": [
    "### 6.3.2 `open()`と`close()`ではなく`with`文を使う"
   ]
  },
  {
   "cell_type": "code",
   "execution_count": null,
   "metadata": {},
   "outputs": [],
   "source": [
    "# パイソニックでないコード\n",
    "fileObj = open('spam.txt', 'w')\n",
    "fileObj.write('Hello, world!')\n",
    "fileObj.close()"
   ]
  },
  {
   "cell_type": "code",
   "execution_count": null,
   "metadata": {},
   "outputs": [],
   "source": [
    "# パイソニックでないコード\n",
    "try:\n",
    "    fileObj = open('spam.txt', 'w')\n",
    "    eggs = 42 / 0    # ゼロ除算のエラーが発生する\n",
    "    fileObj.close()  # ここが実行されない\n",
    "except:\n",
    "    print('Some error occurred.')\n"
   ]
  },
  {
   "cell_type": "code",
   "execution_count": null,
   "metadata": {},
   "outputs": [],
   "source": [
    "# パイソニックなコード\n",
    "with open('spam.txt', 'w') as fileObj:\n",
    "    fileObj.write('Hello, world!')"
   ]
  },
  {
   "cell_type": "markdown",
   "metadata": {},
   "source": [
    "### 6.3.3 `==`ではなく`is`を使って`None`と比較する"
   ]
  },
  {
   "cell_type": "markdown",
   "metadata": {},
   "source": [
    "## 6.4 文字列のフォーマット"
   ]
  },
  {
   "cell_type": "markdown",
   "metadata": {},
   "source": [
    "### 6.4.1 バクスラッシュ（`\\`）が多い文字列の場合、`raw`文字列を使う "
   ]
  },
  {
   "cell_type": "code",
   "execution_count": 7,
   "metadata": {},
   "outputs": [
    {
     "name": "stdout",
     "output_type": "stream",
     "text": [
      "The file is in\\Users\\AI\\Desktop\\Info\\Archive\\Spam\n",
      "The file is in\\Users\\AI\\Desctop\\Info\\Archive\\Spam\n"
     ]
    }
   ],
   "source": [
    "# パイソニックでないコード\n",
    "print('The file is in\\\\Users\\\\AI\\\\Desktop\\\\Info\\\\Archive\\\\Spam')\n",
    "\n",
    "# パイソニックなコード\n",
    "print(r'The file is in\\Users\\AI\\Desctop\\Info\\Archive\\Spam')\n"
   ]
  },
  {
   "cell_type": "markdown",
   "metadata": {},
   "source": [
    "### 6.4.2 `f-string`による文字列フォーマット"
   ]
  },
  {
   "cell_type": "code",
   "execution_count": 8,
   "metadata": {},
   "outputs": [
    {
     "name": "stdout",
     "output_type": "stream",
     "text": [
      "This prints the value in sapm: 42\n",
      "This prints leteral curly brances: {spam}\n"
     ]
    }
   ],
   "source": [
    "spam = 42\n",
    "print(f'This prints the value in sapm: {spam}')\n",
    "print(f'This prints literal curly braces: {{spam}}')"
   ]
  },
  {
   "cell_type": "markdown",
   "metadata": {},
   "source": [
    "## 6.5 リストのコピー\n",
    "\n",
    "- スライス構文\n",
    "  - 新しい文字列やリストを既存のものから作成する"
   ]
  },
  {
   "cell_type": "code",
   "execution_count": 9,
   "metadata": {},
   "outputs": [
    {
     "data": {
      "text/plain": [
       "'world'"
      ]
     },
     "execution_count": 9,
     "metadata": {},
     "output_type": "execute_result"
    }
   ],
   "source": [
    "# 文字列の一部から新たな文字列を生成する\n",
    "'Hello, world!'[7:12]"
   ]
  },
  {
   "cell_type": "code",
   "execution_count": 10,
   "metadata": {},
   "outputs": [
    {
     "data": {
      "text/plain": [
       "'Hello'"
      ]
     },
     "execution_count": 10,
     "metadata": {},
     "output_type": "execute_result"
    }
   ],
   "source": [
    "# 文字列の一部から新たな文字列を生成する\n",
    "'Hello, world!'[:5]"
   ]
  },
  {
   "cell_type": "code",
   "execution_count": 11,
   "metadata": {},
   "outputs": [
    {
     "data": {
      "text/plain": [
       "['rat', 'eel']"
      ]
     },
     "execution_count": 11,
     "metadata": {},
     "output_type": "execute_result"
    }
   ],
   "source": [
    "# リストの一部から新たなリストを生成する\n",
    "['cat', 'dog', 'rat', 'eel'][2:]"
   ]
  },
  {
   "cell_type": "code",
   "execution_count": 12,
   "metadata": {},
   "outputs": [
    {
     "data": {
      "text/plain": [
       "['cat', 'dog', 'rat', 'eel']"
      ]
     },
     "execution_count": 12,
     "metadata": {},
     "output_type": "execute_result"
    }
   ],
   "source": [
    "spam = ['cat', 'dog', 'rat', 'eel']\n",
    "eggs = spam[:]\n",
    "eggs"
   ]
  },
  {
   "cell_type": "code",
   "execution_count": 13,
   "metadata": {},
   "outputs": [
    {
     "data": {
      "text/plain": [
       "False"
      ]
     },
     "execution_count": 13,
     "metadata": {},
     "output_type": "execute_result"
    }
   ],
   "source": [
    "id(spam) == id(eggs)"
   ]
  },
  {
   "cell_type": "code",
   "execution_count": 14,
   "metadata": {},
   "outputs": [
    {
     "data": {
      "text/plain": [
       "False"
      ]
     },
     "execution_count": 14,
     "metadata": {},
     "output_type": "execute_result"
    }
   ],
   "source": [
    "# パイソニックなコード\n",
    "import copy\n",
    "\n",
    "spam = ['cat', 'dog', 'rat', 'eel']\n",
    "eggs = copy.copy(spam)\n",
    "id(spam) == id(eggs)"
   ]
  },
  {
   "cell_type": "markdown",
   "metadata": {},
   "source": [
    "## 6.6 パイソニックな辞書の使い方\n",
    "\n",
    "- The Mighty Dictionary（PyCon2010）\n",
    "- The Dictionary Even Mightier（PyCon2017）"
   ]
  },
  {
   "cell_type": "markdown",
   "metadata": {},
   "source": [
    "### 6.6.1 辞書で`get()`や`setdefault()`を使う"
   ]
  },
  {
   "cell_type": "code",
   "execution_count": 17,
   "metadata": {},
   "outputs": [
    {
     "name": "stdout",
     "output_type": "stream",
     "text": [
      "I have 0 cats.\n",
      "I have 0 cats.\n"
     ]
    }
   ],
   "source": [
    "# パイソニックでないコード\n",
    "numberOfPets = {'dogs': 2}\n",
    "if 'cats' in numberOfPets:\n",
    "    print(f'I have', numberOfPets['cats'], 'cats')\n",
    "else:\n",
    "    print('I have 0 cats.')\n",
    "\n",
    "# パイソニックなコード\n",
    "numberOfPets = {'dogs': 2}\n",
    "print('I have', numberOfPets.get('cats', 0), 'cats.')"
   ]
  },
  {
   "cell_type": "code",
   "execution_count": 20,
   "metadata": {},
   "outputs": [
    {
     "name": "stdout",
     "output_type": "stream",
     "text": [
      "10\n",
      "0\n",
      "10\n"
     ]
    }
   ],
   "source": [
    "# パイソニックでないコード\n",
    "numberOfPets = {'dogs': 2}\n",
    "if 'cats' not in numberOfPets:\n",
    "    numberOfPets['cats'] = 0\n",
    "\n",
    "numberOfPets['cats'] += 10\n",
    "print(numberOfPets['cats'])\n",
    "\n",
    "# パイソニックなコード\n",
    "numberOfPets = {'dogs': 2}\n",
    "print(numberOfPets.setdefault('cats', 0))\n",
    "\n",
    "numberOfPets['cats'] += 10\n",
    "print(numberOfPets['cats'])"
   ]
  },
  {
   "cell_type": "markdown",
   "metadata": {},
   "source": [
    "### 6.6.2 デフォルト値に`collections.defaultdict`を使う"
   ]
  },
  {
   "cell_type": "code",
   "execution_count": 25,
   "metadata": {},
   "outputs": [
    {
     "name": "stdout",
     "output_type": "stream",
     "text": [
      "defaultdict(<class 'int'>, {})\n",
      "defaultdict(<class 'int'>, {'Al': 1})\n",
      "0\n",
      "defaultdict(<class 'int'>, {'Al': 1, 'Zophie': 40})\n"
     ]
    }
   ],
   "source": [
    "import collections\n",
    "\n",
    "scores = collections.defaultdict(int)\n",
    "print(scores)\n",
    "\n",
    "scores['Al'] += 1\n",
    "print(scores)\n",
    "\n",
    "print(scores['Zophie'])\n",
    "\n",
    "scores['Zophie'] += 40\n",
    "print(scores)"
   ]
  },
  {
   "cell_type": "code",
   "execution_count": 27,
   "metadata": {},
   "outputs": [
    {
     "name": "stdout",
     "output_type": "stream",
     "text": [
      "defaultdict(<class 'list'>, {'Al': ['Oryx and Crake', 'American Gods']})\n",
      "2\n",
      "0\n"
     ]
    }
   ],
   "source": [
    "import collections\n",
    "\n",
    "booksReadBy = collections.defaultdict(list)\n",
    "booksReadBy['Al'].append('Oryx and Crake')\n",
    "booksReadBy['Al'].append('American Gods')\n",
    "print(booksReadBy)\n",
    "print(len(booksReadBy['Al']))\n",
    "\n",
    "print(len(booksReadBy['Zophie']))"
   ]
  },
  {
   "cell_type": "markdown",
   "metadata": {},
   "source": [
    "### 6.6.3 `switch`文の代わりに辞書を使う"
   ]
  },
  {
   "cell_type": "markdown",
   "metadata": {},
   "source": [
    "## 6.7 条件式：Pythonの「醜い」三項演算子"
   ]
  },
  {
   "cell_type": "code",
   "execution_count": 28,
   "metadata": {},
   "outputs": [
    {
     "data": {
      "text/plain": [
       "'Access granted'"
      ]
     },
     "execution_count": 28,
     "metadata": {},
     "output_type": "execute_result"
    }
   ],
   "source": [
    "# パイソニックなコード\n",
    "condition = True\n",
    "if condition:\n",
    "    message = 'Access granted'\n",
    "else:\n",
    "    message = 'Access denied'\n",
    "\n",
    "message"
   ]
  },
  {
   "cell_type": "code",
   "execution_count": 29,
   "metadata": {},
   "outputs": [
    {
     "data": {
      "text/plain": [
       "'Access granted'"
      ]
     },
     "execution_count": 29,
     "metadata": {},
     "output_type": "execute_result"
    }
   ],
   "source": [
    "valueIfTrue = 'Access granted'\n",
    "valuIfFalse = 'Access denied'\n",
    "condition = True\n",
    "message = valueIfTrue if condition else valuIfFalse\n",
    "message"
   ]
  },
  {
   "cell_type": "code",
   "execution_count": 30,
   "metadata": {},
   "outputs": [
    {
     "name": "stdout",
     "output_type": "stream",
     "text": [
      "Access granted\n"
     ]
    }
   ],
   "source": [
    "print(valueIfTrue if condition else valuIfFalse)"
   ]
  },
  {
   "cell_type": "code",
   "execution_count": 31,
   "metadata": {},
   "outputs": [
    {
     "data": {
      "text/plain": [
       "'Access denied'"
      ]
     },
     "execution_count": 31,
     "metadata": {},
     "output_type": "execute_result"
    }
   ],
   "source": [
    "condition = False\n",
    "message = valueIfTrue if condition else valuIfFalse\n",
    "message\n"
   ]
  },
  {
   "cell_type": "markdown",
   "metadata": {},
   "source": [
    "## 6.8 変数の扱い"
   ]
  },
  {
   "cell_type": "markdown",
   "metadata": {},
   "source": [
    "### 6.8.1 代入演算子と比較演算子の連結\n",
    "\n",
    "```python\n",
    "# パイソニックでないコード\n",
    "if 42 < spam and spam < 99:\n",
    "\n",
    "# パイソニックなコード\n",
    "if 42 < spam < 99:\n",
    "```"
   ]
  },
  {
   "cell_type": "code",
   "execution_count": 32,
   "metadata": {},
   "outputs": [
    {
     "name": "stdout",
     "output_type": "stream",
     "text": [
      "string string string\n"
     ]
    }
   ],
   "source": [
    "# パイソニックなコード\n",
    "spam = eggs = bacon = 'string'\n",
    "print(spam, eggs, bacon)"
   ]
  },
  {
   "cell_type": "code",
   "execution_count": 33,
   "metadata": {},
   "outputs": [
    {
     "data": {
      "text/plain": [
       "True"
      ]
     },
     "execution_count": 33,
     "metadata": {},
     "output_type": "execute_result"
    }
   ],
   "source": [
    "# パイソニックなコード\n",
    "spam = eggs = bacon = 'string'\n",
    "spam == eggs == bacon == 'string'"
   ]
  },
  {
   "cell_type": "markdown",
   "metadata": {},
   "source": [
    "### 6.8.2 変数の値が複数の値のどれかと等しいかを調べる"
   ]
  },
  {
   "cell_type": "code",
   "execution_count": 34,
   "metadata": {},
   "outputs": [
    {
     "data": {
      "text/plain": [
       "True"
      ]
     },
     "execution_count": 34,
     "metadata": {},
     "output_type": "execute_result"
    }
   ],
   "source": [
    "# パイソニックなコード\n",
    "spam = 'cat'\n",
    "spam in ('cat', 'dog', 'moose')"
   ]
  }
 ],
 "metadata": {
  "kernelspec": {
   "display_name": "Python 3.9.13 ('bbsp_env': venv)",
   "language": "python",
   "name": "python3"
  },
  "language_info": {
   "codemirror_mode": {
    "name": "ipython",
    "version": 3
   },
   "file_extension": ".py",
   "mimetype": "text/x-python",
   "name": "python",
   "nbconvert_exporter": "python",
   "pygments_lexer": "ipython3",
   "version": "3.9.13"
  },
  "orig_nbformat": 4,
  "vscode": {
   "interpreter": {
    "hash": "41766856ccac8481a99e9a987cf3d4692617aa51270f3852f64eefae6a9e02e0"
   }
  }
 },
 "nbformat": 4,
 "nbformat_minor": 2
}
