{
 "cells": [
  {
   "cell_type": "markdown",
   "metadata": {},
   "source": [
    "# Ch.08 よくあるPythonの落とし穴"
   ]
  },
  {
   "cell_type": "markdown",
   "metadata": {},
   "source": [
    "## 8.1 ループ時にリストの追加・削除をしない"
   ]
  },
  {
   "cell_type": "markdown",
   "metadata": {},
   "source": [
    "- https://autbor.com/addingloop/\n",
    "- https://autbor.com/addingloopfixed/"
   ]
  },
  {
   "cell_type": "code",
   "execution_count": 1,
   "metadata": {},
   "outputs": [
    {
     "name": "stdout",
     "output_type": "stream",
     "text": [
      "Appending:  red sock\n",
      "Appending:  blue sock\n",
      "['red sock', 'blue sock']\n",
      "['skirt', 'red sock', 'blue sock', 'red sock', 'blue sock']\n"
     ]
    }
   ],
   "source": [
    "clothes = ['skirt', 'red sock', 'blue sock']\n",
    "newClothes = []\n",
    "for clothing in clothes:\n",
    "    if 'sock' in clothing:\n",
    "        print('Appending: ', clothing)\n",
    "        newClothes.append(clothing)\n",
    "\n",
    "print(newClothes)\n",
    "clothes.extend(newClothes)\n",
    "print(clothes)"
   ]
  },
  {
   "cell_type": "markdown",
   "metadata": {},
   "source": [
    "- https://autbor.com/deletingloop/\n",
    "- https://autbor.com/deletingloopfixed/"
   ]
  },
  {
   "cell_type": "code",
   "execution_count": 2,
   "metadata": {},
   "outputs": [
    {
     "name": "stdout",
     "output_type": "stream",
     "text": [
      "['hello', 'hello', 'hello']\n"
     ]
    }
   ],
   "source": [
    "greetings = ['hello', 'hello', 'mello', 'yello', 'hello']\n",
    "newGreetings = []\n",
    "for word in greetings:\n",
    "    if word == 'hello':\n",
    "        newGreetings.append(word)\n",
    "\n",
    "greetings = newGreetings\n",
    "print(greetings)"
   ]
  },
  {
   "cell_type": "code",
   "execution_count": 3,
   "metadata": {},
   "outputs": [
    {
     "name": "stdout",
     "output_type": "stream",
     "text": [
      "['hello', 'hello', 'hello']\n"
     ]
    }
   ],
   "source": [
    "greetings = ['hello', 'hello', 'mello', 'yello', 'hello']\n",
    "greetings = [word for word in greetings if word == 'hello']\n",
    "print(greetings)"
   ]
  },
  {
   "cell_type": "markdown",
   "metadata": {},
   "source": [
    "### 参照、メモリー使用量、sys.getsizeof()\n",
    "\n",
    "- https://code.activestate.com/recipes/577504-compute-memory-footprint-of-an-object-and-its-cont/"
   ]
  },
  {
   "cell_type": "code",
   "execution_count": 6,
   "metadata": {},
   "outputs": [
    {
     "name": "stdout",
     "output_type": "stream",
     "text": [
      "52\n",
      "85\n",
      "64\n",
      "64\n"
     ]
    }
   ],
   "source": [
    "import sys\n",
    "\n",
    "print(sys.getsizeof('cat'))\n",
    "print(sys.getsizeof('a much longer string than just \"cat\"'))\n",
    "\n",
    "print(sys.getsizeof(['cat']))\n",
    "print(sys.getsizeof(['a much longer string than just \"cat\"']))"
   ]
  },
  {
   "cell_type": "markdown",
   "metadata": {},
   "source": [
    "- https://autbor.com/convertstringnumbers"
   ]
  },
  {
   "cell_type": "code",
   "execution_count": 23,
   "metadata": {},
   "outputs": [
    {
     "data": {
      "text/plain": [
       "[1, 2, 3, 4, 5]"
      ]
     },
     "execution_count": 23,
     "metadata": {},
     "output_type": "execute_result"
    }
   ],
   "source": [
    "numbers = ['1', '2', '3', '4', '5']\n",
    "for i, number in enumerate(numbers):\n",
    "    numbers[i] = int(number)\n",
    "\n",
    "numbers"
   ]
  },
  {
   "cell_type": "markdown",
   "metadata": {},
   "source": [
    "- https://autbor.com/iteratebackwards1"
   ]
  },
  {
   "cell_type": "code",
   "execution_count": 24,
   "metadata": {},
   "outputs": [],
   "source": [
    "# 要素数を変更するとエラーになる\n",
    "\n",
    "# someInts = [1, 7, 4, 5]\n",
    "# for i in range(len(someInts)):\n",
    "#     if someInt[i] % 2 == 0:\n",
    "#         del someInt[i]"
   ]
  },
  {
   "cell_type": "code",
   "execution_count": 27,
   "metadata": {},
   "outputs": [
    {
     "data": {
      "text/plain": [
       "[1, 7, 5]"
      ]
     },
     "execution_count": 27,
     "metadata": {},
     "output_type": "execute_result"
    }
   ],
   "source": [
    "someInts = [1, 7, 4, 5]\n",
    "for i in range(len(someInts)-1, -1, -1):\n",
    "    if someInts[i] % 2 == 0:\n",
    "        del someInts[i]\n",
    "\n",
    "someInts"
   ]
  },
  {
   "cell_type": "markdown",
   "metadata": {},
   "source": [
    "- https://autbor.com/iteratebackwards2"
   ]
  },
  {
   "cell_type": "code",
   "execution_count": 28,
   "metadata": {},
   "outputs": [
    {
     "data": {
      "text/plain": [
       "[1, 7, 4, 5, 4]"
      ]
     },
     "execution_count": 28,
     "metadata": {},
     "output_type": "execute_result"
    }
   ],
   "source": [
    "someInts = [1, 7, 4, 5]\n",
    "for i in range(len(someInts)-1, -1, -1):\n",
    "    if someInts[i] % 2 == 0:\n",
    "        someInts.append(someInts[i])\n",
    "\n",
    "someInts"
   ]
  },
  {
   "cell_type": "markdown",
   "metadata": {},
   "source": [
    "## 8.2 `copy.copy()`や`copy.deepcopy()`を使わずに可変型の値をコピーしない\n",
    "\n",
    "-[Facts and Myths about Python Names and Values (PyCon 2015)](https://youtu.be/_AEJHKGk9ns)"
   ]
  },
  {
   "cell_type": "markdown",
   "metadata": {},
   "source": [
    "- https://autbor.com/listcopygotcha1"
   ]
  },
  {
   "cell_type": "code",
   "execution_count": 30,
   "metadata": {},
   "outputs": [
    {
     "name": "stdout",
     "output_type": "stream",
     "text": [
      "['cat', 'dog', 'eel']\n",
      "['cat', 'dog', 'eel']\n",
      "['cat', 'dog', 'MOOSE']\n",
      "['cat', 'dog', 'MOOSE']\n",
      "4628201792 4628201792\n"
     ]
    }
   ],
   "source": [
    "spam = ['cat', 'dog', 'eel']\n",
    "cheese = spam\n",
    "print(spam)\n",
    "print(cheese)\n",
    "\n",
    "spam[2] = 'MOOSE'\n",
    "print(spam)\n",
    "print(cheese)\n",
    "\n",
    "print(id(spam), id(cheese))"
   ]
  },
  {
   "cell_type": "markdown",
   "metadata": {},
   "source": [
    "- https://autbor.com/listcopygotcha2"
   ]
  },
  {
   "cell_type": "code",
   "execution_count": 31,
   "metadata": {},
   "outputs": [
    {
     "name": "stdout",
     "output_type": "stream",
     "text": [
      "4628134464\n",
      "4628134464\n"
     ]
    }
   ],
   "source": [
    "def printIdOfParam(someList):\n",
    "    print(id(someList))\n",
    "\n",
    "eggs = ['cat', 'dog', 'eel']\n",
    "print(id(eggs))\n",
    "printIdOfParam(eggs)"
   ]
  },
  {
   "cell_type": "markdown",
   "metadata": {},
   "source": [
    "- https://autbor.com/copycopy1"
   ]
  },
  {
   "cell_type": "code",
   "execution_count": 34,
   "metadata": {},
   "outputs": [
    {
     "name": "stdout",
     "output_type": "stream",
     "text": [
      "4628202368 4628005120\n",
      "['CHANGED', 4, 8, 16]\n",
      "[2, 4, 8, 16]\n",
      "4628202368 4628005120\n"
     ]
    }
   ],
   "source": [
    "import copy\n",
    "\n",
    "bacon = [2, 4, 8, 16]\n",
    "ham = copy.copy(bacon)\n",
    "print(id(bacon), id(ham))\n",
    "\n",
    "bacon[0] = 'CHANGED'\n",
    "print(bacon)\n",
    "print(ham)\n",
    "print(id(bacon), id(ham))"
   ]
  },
  {
   "cell_type": "markdown",
   "metadata": {},
   "source": [
    "- https://autbor.com/copycopy2"
   ]
  },
  {
   "cell_type": "code",
   "execution_count": 39,
   "metadata": {},
   "outputs": [
    {
     "name": "stdout",
     "output_type": "stream",
     "text": [
      "4628177088 4628116672\n",
      "[[1, 2], [3, 4], 'APPENDED']\n",
      "[[1, 2], [3, 4]]\n",
      "[['CHANGED', 2], [3, 4], 'APPENDED']\n",
      "[['CHANGED', 2], [3, 4]]\n",
      "4628203136 4628203136\n"
     ]
    }
   ],
   "source": [
    "import copy\n",
    "\n",
    "bacon = [[1, 2], [3, 4]]\n",
    "ham = copy.copy(bacon)\n",
    "print(id(bacon), id(ham))\n",
    "\n",
    "bacon.append('APPENDED')\n",
    "print(bacon)\n",
    "print(ham)\n",
    "\n",
    "bacon[0][0] = 'CHANGED'\n",
    "print(bacon)\n",
    "print(ham)\n",
    "print(id(bacon[0]), id(ham[0]))"
   ]
  },
  {
   "cell_type": "markdown",
   "metadata": {},
   "source": [
    "- https://autbor.com/copydeepcopy"
   ]
  },
  {
   "cell_type": "code",
   "execution_count": 41,
   "metadata": {},
   "outputs": [
    {
     "name": "stdout",
     "output_type": "stream",
     "text": [
      "4628269568 4628107392\n",
      "[['CHANGED', 2], [3, 4]]\n",
      "[[1, 2], [3, 4]]\n"
     ]
    }
   ],
   "source": [
    "import copy\n",
    "\n",
    "bacon = [[1, 2], [3, 4]]\n",
    "ham = copy.deepcopy(bacon)\n",
    "print(id(bacon[0]), id(ham[0]))\n",
    "\n",
    "bacon[0][0] = 'CHANGED'\n",
    "print(bacon)\n",
    "print(ham)\n"
   ]
  },
  {
   "cell_type": "markdown",
   "metadata": {},
   "source": [
    "## 8.3 デフォルト引数に可変値を使用しない"
   ]
  },
  {
   "cell_type": "markdown",
   "metadata": {},
   "source": [
    "- https://autbor.com/sandwich"
   ]
  },
  {
   "cell_type": "code",
   "execution_count": 44,
   "metadata": {},
   "outputs": [
    {
     "name": "stdout",
     "output_type": "stream",
     "text": [
      "['bread', 'avocado', 'bread']\n",
      "['bread', 'lettuce', 'avocado', 'bread']\n"
     ]
    }
   ],
   "source": [
    "def addIngredient(ingredient, sandwich=['bread', 'bread']):\n",
    "    sandwich.insert(1, ingredient)\n",
    "    return sandwich\n",
    "\n",
    "mySandwich = addIngredient('avocado')\n",
    "print(mySandwich)\n",
    "\n",
    "anotherSandwich = addIngredient('lettuce')\n",
    "print(anotherSandwich)"
   ]
  },
  {
   "cell_type": "code",
   "execution_count": 46,
   "metadata": {},
   "outputs": [
    {
     "name": "stdout",
     "output_type": "stream",
     "text": [
      "['bread', 'cranberries', 'bread']\n",
      "['bread', 'lettuce', 'bread']\n"
     ]
    },
    {
     "data": {
      "text/plain": [
       "False"
      ]
     },
     "execution_count": 46,
     "metadata": {},
     "output_type": "execute_result"
    }
   ],
   "source": [
    "def addIngredient(ingredient, sandwich=None):\n",
    "    if sandwich is None:\n",
    "        sandwich = ['bread', 'bread']\n",
    "    sandwich.insert(1, ingredient)\n",
    "    return sandwich\n",
    "\n",
    "firstSandwich = addIngredient('cranberries')\n",
    "print(firstSandwich)\n",
    "\n",
    "secondSandwich = addIngredient('lettuce')\n",
    "print(secondSandwich)\n",
    "\n",
    "id(firstSandwich) == id(secondSandwich)"
   ]
  },
  {
   "cell_type": "markdown",
   "metadata": {},
   "source": [
    "## 8.4 文字連結で文字列を作らない"
   ]
  },
  {
   "cell_type": "code",
   "execution_count": 52,
   "metadata": {},
   "outputs": [
    {
     "name": "stdout",
     "output_type": "stream",
     "text": [
      "4627972656 Hello\n",
      "4627974128 Hello world!\n",
      "4627973232 HELLO WORLD!\n",
      "4627976112 Hi\n",
      "4628130992 Hi world!\n"
     ]
    }
   ],
   "source": [
    "spam = 'Hello'\n",
    "print(id(spam), spam)\n",
    "\n",
    "spam = spam + ' world!'\n",
    "print(id(spam), spam)\n",
    "\n",
    "spam = spam.upper()\n",
    "print(id(spam), spam)\n",
    "\n",
    "spam = 'Hi'\n",
    "print(id(spam), spam)\n",
    "\n",
    "spam = f'{spam} world!'\n",
    "print(id(spam), spam)"
   ]
  },
  {
   "cell_type": "code",
   "execution_count": 54,
   "metadata": {},
   "outputs": [
    {
     "name": "stdout",
     "output_type": "stream",
     "text": [
      "spam spam spam spam spam spam spam spam spam spam spam spam spam spam spam spam spam spam spam spam spam spam spam spam spam spam spam spam spam spam spam spam spam spam spam spam spam spam spam spam spam spam spam spam spam spam spam spam spam spam spam spam spam spam spam spam spam spam spam spam spam spam spam spam spam spam spam spam spam spam spam spam spam spam spam spam spam spam spam spam spam spam spam spam spam spam spam spam spam spam spam spam spam spam spam spam spam spam spam spam \n"
     ]
    }
   ],
   "source": [
    "finalString = ''\n",
    "for i in range(100):\n",
    "    finalString += 'spam '\n",
    "print(finalString)"
   ]
  },
  {
   "cell_type": "code",
   "execution_count": 55,
   "metadata": {},
   "outputs": [
    {
     "name": "stdout",
     "output_type": "stream",
     "text": [
      "spam spam spam spam spam spam spam spam spam spam spam spam spam spam spam spam spam spam spam spam spam spam spam spam spam spam spam spam spam spam spam spam spam spam spam spam spam spam spam spam spam spam spam spam spam spam spam spam spam spam spam spam spam spam spam spam spam spam spam spam spam spam spam spam spam spam spam spam spam spam spam spam spam spam spam spam spam spam spam spam spam spam spam spam spam spam spam spam spam spam spam spam spam spam spam spam spam spam spam spam \n"
     ]
    }
   ],
   "source": [
    "finalString = []\n",
    "for i in range(100):\n",
    "    finalString.append('spam ')\n",
    "\n",
    "finalString = ''.join(finalString)\n",
    "print(finalString)"
   ]
  },
  {
   "cell_type": "markdown",
   "metadata": {},
   "source": [
    "## 8.5 `sort()`にアルファベット順にソートを期待してはいけない"
   ]
  },
  {
   "cell_type": "markdown",
   "metadata": {},
   "source": [
    "- American Standard Code for Information Interchange (ASCII)\n",
    "  - コードポイントや序数と呼ばれる数値と文字のマッピング\n",
    "- `sort()`\n",
    "  - ASCIIコード順でソートを行う\n",
    "  - [Timsort](https://ja.wikipedia.org/wiki/%E3%83%86%E3%82%A3%E3%83%A0%E3%82%BD%E3%83%BC%E3%83%88)"
   ]
  },
  {
   "cell_type": "code",
   "execution_count": 57,
   "metadata": {},
   "outputs": [
    {
     "name": "stdout",
     "output_type": "stream",
     "text": [
      "97\n",
      "a\n"
     ]
    }
   ],
   "source": [
    "# その文字のコードポイント調べる\n",
    "print(ord('a'))\n",
    "\n",
    "# コードポイントを渡して文字列を調べる\n",
    "print(chr(97))"
   ]
  },
  {
   "cell_type": "code",
   "execution_count": 63,
   "metadata": {},
   "outputs": [
    {
     "name": "stdout",
     "output_type": "stream",
     "text": [
      "['A', 'Z', 'a', 'z']\n",
      "65 90 97 122\n",
      "['A', 'a', 'Z', 'z']\n"
     ]
    }
   ],
   "source": [
    "# アルファベット順にソートする\n",
    "letters = ['z', 'A', 'a', 'Z']\n",
    "letters.sort()\n",
    "print(letters)\n",
    "print(ord(letters[0]), ord(letters[1]), ord(letters[2]), ord(letters[3]))\n",
    "\n",
    "letters.sort(key=str.lower)\n",
    "print(letters)"
   ]
  },
  {
   "cell_type": "markdown",
   "metadata": {},
   "source": [
    "## 8.6 浮動小数点が厳密であるとは限らない"
   ]
  },
  {
   "cell_type": "code",
   "execution_count": 65,
   "metadata": {},
   "outputs": [
    {
     "name": "stdout",
     "output_type": "stream",
     "text": [
      "0.30000000000000004\n"
     ]
    },
    {
     "data": {
      "text/plain": [
       "False"
      ]
     },
     "execution_count": 65,
     "metadata": {},
     "output_type": "execute_result"
    }
   ],
   "source": [
    "print(0.1 + 0.1 + 0.1)\n",
    "0.3 == (0.1 + 0.1 + 0.1)"
   ]
  },
  {
   "cell_type": "code",
   "execution_count": 70,
   "metadata": {},
   "outputs": [
    {
     "name": "stdout",
     "output_type": "stream",
     "text": [
      "9007199254740992.0\n",
      "9007199254740992.0\n"
     ]
    },
    {
     "data": {
      "text/plain": [
       "False"
      ]
     },
     "execution_count": 70,
     "metadata": {},
     "output_type": "execute_result"
    }
   ],
   "source": [
    "print(float(2**53))\n",
    "print(float(2**53) + 1)\n",
    "float(2**53) ==(float(2*53) + 1)"
   ]
  },
  {
   "cell_type": "markdown",
   "metadata": {},
   "source": [
    "- [`decimal`モジュール](https://docs.python.org/ja/3/library/decimal.html)"
   ]
  },
  {
   "cell_type": "code",
   "execution_count": 74,
   "metadata": {},
   "outputs": [
    {
     "name": "stdout",
     "output_type": "stream",
     "text": [
      "0.1\n",
      "0.1\n",
      "0.1000000000000000055511151231257827021181583404541015625\n",
      "0.1\n",
      "0.3\n"
     ]
    }
   ],
   "source": [
    "import decimal\n",
    "\n",
    "print(float(0.1))\n",
    "print(0.1)\n",
    "d = decimal.Decimal(0.1)\n",
    "print(d)\n",
    "\n",
    "d = decimal.Decimal('0.1')\n",
    "print(d)\n",
    "print(d + d + d)"
   ]
  },
  {
   "cell_type": "code",
   "execution_count": 78,
   "metadata": {},
   "outputs": [
    {
     "name": "stdout",
     "output_type": "stream",
     "text": [
      "10.1\n",
      "0.3\n",
      "0.9\n"
     ]
    },
    {
     "ename": "TypeError",
     "evalue": "unsupported operand type(s) for +: 'decimal.Decimal' and 'float'",
     "output_type": "error",
     "traceback": [
      "\u001b[0;31m---------------------------------------------------------------------------\u001b[0m",
      "\u001b[0;31mTypeError\u001b[0m                                 Traceback (most recent call last)",
      "\u001b[1;32m/Users/takeru/Library/CloudStorage/OneDrive-個人用/Learn/Python/Beyond_the_Basic_Stuff_with_Python_mynavi/jupyter/ch_08.ipynb Cell 45'\u001b[0m in \u001b[0;36m<cell line: 5>\u001b[0;34m()\u001b[0m\n\u001b[1;32m      <a href='vscode-notebook-cell:/Users/takeru/Library/CloudStorage/OneDrive-%E5%80%8B%E4%BA%BA%E7%94%A8/Learn/Python/Beyond_the_Basic_Stuff_with_Python_mynavi/jupyter/ch_08.ipynb#ch0000049?line=2'>3</a>\u001b[0m \u001b[39mprint\u001b[39m(d \u001b[39m*\u001b[39m \u001b[39m3\u001b[39m)\n\u001b[1;32m      <a href='vscode-notebook-cell:/Users/takeru/Library/CloudStorage/OneDrive-%E5%80%8B%E4%BA%BA%E7%94%A8/Learn/Python/Beyond_the_Basic_Stuff_with_Python_mynavi/jupyter/ch_08.ipynb#ch0000049?line=3'>4</a>\u001b[0m \u001b[39mprint\u001b[39m(\u001b[39m1\u001b[39m \u001b[39m-\u001b[39m d)\n\u001b[0;32m----> <a href='vscode-notebook-cell:/Users/takeru/Library/CloudStorage/OneDrive-%E5%80%8B%E4%BA%BA%E7%94%A8/Learn/Python/Beyond_the_Basic_Stuff_with_Python_mynavi/jupyter/ch_08.ipynb#ch0000049?line=4'>5</a>\u001b[0m \u001b[39mprint\u001b[39m(d \u001b[39m+\u001b[39;49m \u001b[39m0.1\u001b[39;49m)\n",
      "\u001b[0;31mTypeError\u001b[0m: unsupported operand type(s) for +: 'decimal.Decimal' and 'float'"
     ]
    }
   ],
   "source": [
    "import decimal\n",
    "\n",
    "d = decimal.Decimal('0.1')\n",
    "print(10 + d)\n",
    "print(d * 3)\n",
    "print(1 - d)\n",
    "# print(d + 0.1)  # error"
   ]
  },
  {
   "cell_type": "code",
   "execution_count": 82,
   "metadata": {},
   "outputs": [
    {
     "name": "stdout",
     "output_type": "stream",
     "text": [
      "0.3333333333333333333333333333\n",
      "0.9999999999999999999999999999\n",
      "False\n"
     ]
    }
   ],
   "source": [
    "import decimal\n",
    "\n",
    "d = decimal.Decimal(1) / 3\n",
    "print(d)\n",
    "\n",
    "print(d * 3)\n",
    "\n",
    "print((d * 3) == 1)"
   ]
  },
  {
   "cell_type": "code",
   "execution_count": 98,
   "metadata": {},
   "outputs": [
    {
     "name": "stdout",
     "output_type": "stream",
     "text": [
      "28\n"
     ]
    }
   ],
   "source": [
    "import decimal\n",
    "decimal.getcontext().prec = 28\n",
    "\n",
    "print(decimal.getcontext().prec)"
   ]
  },
  {
   "cell_type": "code",
   "execution_count": 96,
   "metadata": {},
   "outputs": [
    {
     "name": "stdout",
     "output_type": "stream",
     "text": [
      "2\n",
      "0.33\n"
     ]
    }
   ],
   "source": [
    "import decimal\n",
    "\n",
    "# 精度を有効数字28桁から2桁に下げる\n",
    "decimal.getcontext().prec = 2\n",
    "print(decimal.getcontext().prec)\n",
    "print(decimal.Decimal(1) / 3)"
   ]
  },
  {
   "cell_type": "markdown",
   "metadata": {},
   "source": [
    "## 8.7 `!=`演算子を連鎖させない"
   ]
  },
  {
   "cell_type": "code",
   "execution_count": 99,
   "metadata": {},
   "outputs": [
    {
     "data": {
      "text/plain": [
       "True"
      ]
     },
     "execution_count": 99,
     "metadata": {},
     "output_type": "execute_result"
    }
   ],
   "source": [
    "a = 'cat'\n",
    "b = 'dog'\n",
    "c = 'moose'\n",
    "# (a != b) and (b != c) に相当\n",
    "a != b != c"
   ]
  },
  {
   "cell_type": "code",
   "execution_count": 100,
   "metadata": {},
   "outputs": [
    {
     "data": {
      "text/plain": [
       "True"
      ]
     },
     "execution_count": 100,
     "metadata": {},
     "output_type": "execute_result"
    }
   ],
   "source": [
    "a = 'cat'\n",
    "b = 'dog'\n",
    "c = 'cat'\n",
    "# (a != b) and (b != c) に相当\n",
    "a != b != c"
   ]
  },
  {
   "cell_type": "markdown",
   "metadata": {},
   "source": [
    "## 8.8 単要素のタプルではコンマを忘れずに"
   ]
  },
  {
   "cell_type": "code",
   "execution_count": 103,
   "metadata": {},
   "outputs": [
    {
     "name": "stdout",
     "output_type": "stream",
     "text": [
      "cat\n",
      "c\n",
      "cat\n"
     ]
    }
   ],
   "source": [
    "spam = ['cat', 'dog', 'moose']\n",
    "print(spam[0])\n",
    "\n",
    "spam = ('cat')\n",
    "print(spam[0])\n",
    "\n",
    "spam = ('cat', )\n",
    "print(spam[0])"
   ]
  }
 ],
 "metadata": {
  "kernelspec": {
   "display_name": "Python 3.9.13 ('bbsp_env': venv)",
   "language": "python",
   "name": "python3"
  },
  "language_info": {
   "codemirror_mode": {
    "name": "ipython",
    "version": 3
   },
   "file_extension": ".py",
   "mimetype": "text/x-python",
   "name": "python",
   "nbconvert_exporter": "python",
   "pygments_lexer": "ipython3",
   "version": "3.9.13"
  },
  "orig_nbformat": 4,
  "vscode": {
   "interpreter": {
    "hash": "41766856ccac8481a99e9a987cf3d4692617aa51270f3852f64eefae6a9e02e0"
   }
  }
 },
 "nbformat": 4,
 "nbformat_minor": 2
}
