{
 "cells": [
  {
   "cell_type": "markdown",
   "metadata": {},
   "source": [
    "# Ch.10 良い関数の書き方"
   ]
  },
  {
   "cell_type": "markdown",
   "metadata": {},
   "source": [
    "## 10.1 関数名"
   ]
  },
  {
   "cell_type": "markdown",
   "metadata": {},
   "source": [
    "## 10.2 関数サイズのトレードオフ\n",
    "\n",
    "- 目安\n",
    "  - 関数の理想は30行以下\n",
    "  - 絶対に200行以下"
   ]
  },
  {
   "cell_type": "markdown",
   "metadata": {},
   "source": [
    "## 10.3 関数のパラメーターと引数\n",
    "\n",
    "- パラメーター数\n",
    "  - 0~3個程度"
   ]
  },
  {
   "cell_type": "markdown",
   "metadata": {},
   "source": [
    "### 10.3.1 デフォルト引数"
   ]
  },
  {
   "cell_type": "code",
   "execution_count": 1,
   "metadata": {},
   "outputs": [
    {
     "name": "stdout",
     "output_type": "stream",
     "text": [
      "Hello, Alice\n",
      "Ohayo gozaimasu, Hiro\n"
     ]
    }
   ],
   "source": [
    "def introduction(name, greeting='Hello'):\n",
    "    print(f'{greeting}, {name}')\n",
    "\n",
    "introduction('Alice')\n",
    "introduction('Hiro', 'Ohayo gozaimasu')"
   ]
  },
  {
   "cell_type": "markdown",
   "metadata": {},
   "source": [
    "### 10.3.2 関数への引数を渡すための`*`と`**`の使用\n",
    "\n",
    "- スター構文\n",
    "  - `*`構文\n",
    "    - イテレート可能なオブジェクト（リストやタプルなど）\n",
    "  - `**`構文\n",
    "    - マッピングオブジェクト（辞書など）"
   ]
  },
  {
   "cell_type": "code",
   "execution_count": 2,
   "metadata": {},
   "outputs": [
    {
     "name": "stdout",
     "output_type": "stream",
     "text": [
      "cat dog moose\n",
      "['cat', 'dog', 'moose']\n"
     ]
    }
   ],
   "source": [
    "print('cat', 'dog', 'moose')\n",
    "\n",
    "args = ['cat', 'dog', 'moose']\n",
    "print(args)"
   ]
  },
  {
   "cell_type": "code",
   "execution_count": 3,
   "metadata": {},
   "outputs": [
    {
     "name": "stdout",
     "output_type": "stream",
     "text": [
      "cat dog moose\n",
      "cat dog moose\n"
     ]
    }
   ],
   "source": [
    "# 読みにくいコード\n",
    "args = ['cat', 'dog', 'moose']\n",
    "print(args[0], args[1], args[2])\n",
    "\n",
    "# 読みやすいコード\n",
    "args = ['cat', 'dog', 'moose']\n",
    "print(*args)"
   ]
  },
  {
   "cell_type": "code",
   "execution_count": 5,
   "metadata": {},
   "outputs": [
    {
     "name": "stdout",
     "output_type": "stream",
     "text": [
      "cat-dog-moose\n",
      "cat-dog-moose\n"
     ]
    }
   ],
   "source": [
    "print('cat', 'dog', 'moose', sep='-')\n",
    "\n",
    "kwargsForPrint = {'sep': '-'}\n",
    "print('cat', 'dog', 'moose', **kwargsForPrint)"
   ]
  },
  {
   "cell_type": "markdown",
   "metadata": {},
   "source": [
    "### 10.3.3 可変長引数の関数を作成するために`*`を使う"
   ]
  },
  {
   "cell_type": "code",
   "execution_count": 7,
   "metadata": {},
   "outputs": [
    {
     "name": "stdout",
     "output_type": "stream",
     "text": [
      "9\n",
      "12\n"
     ]
    }
   ],
   "source": [
    "def product(*args):\n",
    "    result = 1\n",
    "    for num in args:\n",
    "        result *= num\n",
    "    return result\n",
    "\n",
    "print(product(3, 3))\n",
    "print(product(2, 1, 2, 3))"
   ]
  },
  {
   "cell_type": "code",
   "execution_count": 8,
   "metadata": {},
   "outputs": [
    {
     "data": {
      "text/plain": [
       "8"
      ]
     },
     "execution_count": 8,
     "metadata": {},
     "output_type": "execute_result"
    }
   ],
   "source": [
    "sum([2, 1, 2, 3])"
   ]
  },
  {
   "cell_type": "code",
   "execution_count": 9,
   "metadata": {},
   "outputs": [
    {
     "ename": "TypeError",
     "evalue": "sum() takes at most 2 arguments (4 given)",
     "output_type": "error",
     "traceback": [
      "\u001b[0;31m---------------------------------------------------------------------------\u001b[0m",
      "\u001b[0;31mTypeError\u001b[0m                                 Traceback (most recent call last)",
      "\u001b[1;32m/Users/takeru/Library/CloudStorage/OneDrive-個人用/Learn/Python/Beyond_the_Basic_Stuff_with_Python_mynavi/jupyter/ch_10.ipynb Cell 14'\u001b[0m in \u001b[0;36m<cell line: 2>\u001b[0;34m()\u001b[0m\n\u001b[1;32m      <a href='vscode-notebook-cell:/Users/takeru/Library/CloudStorage/OneDrive-%E5%80%8B%E4%BA%BA%E7%94%A8/Learn/Python/Beyond_the_Basic_Stuff_with_Python_mynavi/jupyter/ch_10.ipynb#ch0000013?line=0'>1</a>\u001b[0m \u001b[39m# error\u001b[39;00m\n\u001b[0;32m----> <a href='vscode-notebook-cell:/Users/takeru/Library/CloudStorage/OneDrive-%E5%80%8B%E4%BA%BA%E7%94%A8/Learn/Python/Beyond_the_Basic_Stuff_with_Python_mynavi/jupyter/ch_10.ipynb#ch0000013?line=1'>2</a>\u001b[0m \u001b[39msum\u001b[39;49m(\u001b[39m2\u001b[39;49m, \u001b[39m1\u001b[39;49m, \u001b[39m2\u001b[39;49m, \u001b[39m3\u001b[39;49m)\n",
      "\u001b[0;31mTypeError\u001b[0m: sum() takes at most 2 arguments (4 given)"
     ]
    }
   ],
   "source": [
    "# error\n",
    "sum(2, 1, 2, 3)\n"
   ]
  },
  {
   "cell_type": "code",
   "execution_count": 11,
   "metadata": {},
   "outputs": [
    {
     "name": "stdout",
     "output_type": "stream",
     "text": [
      "1\n",
      "1\n",
      "3\n",
      "3\n"
     ]
    }
   ],
   "source": [
    "print(min([2, 1, 2, 3]))\n",
    "print(min(2, 1, 2, 3))\n",
    "\n",
    "print(max([2, 1, 2, 3]))\n",
    "print(max(2, 1, 2, 3))"
   ]
  },
  {
   "cell_type": "code",
   "execution_count": 13,
   "metadata": {},
   "outputs": [
    {
     "name": "stdout",
     "output_type": "stream",
     "text": [
      "1\n",
      "1\n"
     ]
    }
   ],
   "source": [
    "def myMinFunction(*args):\n",
    "    if len(args) == 1:\n",
    "        values = args[0]\n",
    "    else:\n",
    "        values = args\n",
    "\n",
    "    if len(args) == 0:\n",
    "        raise ValueError('myMinFunction() args is an empy sequence')\n",
    "\n",
    "    for i, value in enumerate(values):\n",
    "        if i == 0 or value < smallestValue:\n",
    "            smallestValue = value\n",
    "    return smallestValue\n",
    "\n",
    "print(myMinFunction([2, 1, 3, 5, 8]))\n",
    "print(myMinFunction(2, 1, 3, 5, 8))\n"
   ]
  },
  {
   "cell_type": "markdown",
   "metadata": {},
   "source": [
    "### 10.3.4 `**`を使って可変長の関数を作る"
   ]
  },
  {
   "cell_type": "code",
   "execution_count": 16,
   "metadata": {},
   "outputs": [
    {
     "name": "stdout",
     "output_type": "stream",
     "text": [
      "water\n",
      "aether\n"
     ]
    }
   ],
   "source": [
    "def formMolecules(**kwargs):\n",
    "    if len(kwargs) == 1 and kwargs.get('unobtanium') == 12:\n",
    "        return 'aether'\n",
    "\n",
    "    if len(kwargs) == 2 and kwargs['hydrogen'] == 2 and kwargs['oxygen'] == 1:\n",
    "        return 'water'\n",
    "\n",
    "print(formMolecules(hydrogen=2, oxygen=1))\n",
    "print(formMolecules(unobtanium=12))"
   ]
  },
  {
   "cell_type": "markdown",
   "metadata": {},
   "source": [
    "### 10.3.5 `*`と`**`を使ってラッパー関数を作る"
   ]
  },
  {
   "cell_type": "code",
   "execution_count": 17,
   "metadata": {},
   "outputs": [
    {
     "name": "stdout",
     "output_type": "stream",
     "text": [
      "hello albert\n",
      "dog, cat, moose\n"
     ]
    }
   ],
   "source": [
    "def printLower(*args, **kwargs):\n",
    "    args = list(args)\n",
    "    for i, value in enumerate(args):\n",
    "        args[i] = str(value).lower()\n",
    "    return print(*args, **kwargs)\n",
    "\n",
    "name = 'Albert'\n",
    "printLower('Hello', name)\n",
    "\n",
    "printLower('DOG', 'CAT', 'MOOSE', sep=', ')"
   ]
  },
  {
   "cell_type": "markdown",
   "metadata": {},
   "source": [
    "## 10.4 関数型プログラミング\n",
    "\n",
    "- Erlang\n",
    "- Lisp\n",
    "- Haskell"
   ]
  },
  {
   "cell_type": "markdown",
   "metadata": {},
   "source": [
    "### 10.4.1 副作用\n",
    "\n",
    "- 副作用\n",
    "  - 関数が自分のコードやローカル変数の外に存在するプログラムの部分に与える変化のこと"
   ]
  },
  {
   "cell_type": "code",
   "execution_count": 18,
   "metadata": {},
   "outputs": [
    {
     "data": {
      "text/plain": [
       "-864"
      ]
     },
     "execution_count": 18,
     "metadata": {},
     "output_type": "execute_result"
    }
   ],
   "source": [
    "# 副作用なし\n",
    "def subtract(number1, number2):\n",
    "    return number1 - number2\n",
    "\n",
    "subtract(123, 987)"
   ]
  },
  {
   "cell_type": "code",
   "execution_count": 19,
   "metadata": {},
   "outputs": [
    {
     "name": "stdout",
     "output_type": "stream",
     "text": [
      "10\n",
      "20\n",
      "10019\n"
     ]
    }
   ],
   "source": [
    "# 副作用あり\n",
    "TOTAL = 0\n",
    "def addToTotal(amount):\n",
    "    global TOTAL\n",
    "    TOTAL += amount\n",
    "    return TOTAL\n",
    "\n",
    "print(addToTotal(10))\n",
    "print(addToTotal(10))\n",
    "print(addToTotal(9999))"
   ]
  },
  {
   "cell_type": "code",
   "execution_count": 21,
   "metadata": {},
   "outputs": [
    {
     "data": {
      "text/plain": [
       "['dog', 'cat', 'bird']"
      ]
     },
     "execution_count": 21,
     "metadata": {},
     "output_type": "execute_result"
    }
   ],
   "source": [
    "# 副作用あり\n",
    "def removeLastCatFromList(petSpecies):\n",
    "    if len(petSpecies) > 0 and petSpecies[-1] == 'cat':\n",
    "        petSpecies.pop()\n",
    "\n",
    "myPets = ['dog', 'cat', 'bird', 'cat']\n",
    "removeLastCatFromList(myPets)\n",
    "myPets"
   ]
  },
  {
   "cell_type": "markdown",
   "metadata": {},
   "source": [
    "### 10.4.2 高階関数"
   ]
  },
  {
   "cell_type": "code",
   "execution_count": 22,
   "metadata": {},
   "outputs": [
    {
     "name": "stdout",
     "output_type": "stream",
     "text": [
      "Hello, world!\n",
      "Hello, world!\n"
     ]
    }
   ],
   "source": [
    "def callItTwice(func, *args, **kwargs):\n",
    "    func(*args, **kwargs)\n",
    "    func(*args, **kwargs)\n",
    "\n",
    "callItTwice(print, 'Hello, world!')"
   ]
  },
  {
   "cell_type": "markdown",
   "metadata": {},
   "source": [
    "### 10.4.3 ラムダ関数\n",
    "\n",
    "- ラムダ関数\n",
    "  - 匿名関数\n",
    "  - 名無関数"
   ]
  },
  {
   "cell_type": "code",
   "execution_count": 23,
   "metadata": {},
   "outputs": [
    {
     "data": {
      "text/plain": [
       "28"
      ]
     },
     "execution_count": 23,
     "metadata": {},
     "output_type": "execute_result"
    }
   ],
   "source": [
    "def rectanglePerimeter(rect):\n",
    "    return (rect[0] * 2) + (rect[1] * 2)\n",
    "\n",
    "myRectangle = [4, 10]\n",
    "rectanglePerimeter(myRectangle)"
   ]
  },
  {
   "cell_type": "code",
   "execution_count": 25,
   "metadata": {},
   "outputs": [
    {
     "data": {
      "text/plain": [
       "28"
      ]
     },
     "execution_count": 25,
     "metadata": {},
     "output_type": "execute_result"
    }
   ],
   "source": [
    "# ラムダ関数\n",
    "rectanglePerimeter = lambda rect: (rect[0] * 2) + (rect[1] * 2)\n",
    "rectanglePerimeter([4, 10])"
   ]
  },
  {
   "cell_type": "code",
   "execution_count": 26,
   "metadata": {},
   "outputs": [
    {
     "data": {
      "text/plain": [
       "[[2, 4], [3, 6], [3, 9], [10, 2], [10, 7], [9, 9]]"
      ]
     },
     "execution_count": 26,
     "metadata": {},
     "output_type": "execute_result"
    }
   ],
   "source": [
    "rects = [[9, 9], [10, 7], [3, 9], [2, 4],[3, 6], [10, 2]]\n",
    "sorted(rects, key=lambda rect:  (rect[0] * 2) + (rect[1] * 2))"
   ]
  },
  {
   "cell_type": "markdown",
   "metadata": {},
   "source": [
    "### 10.4.4 リスト内包によるマッピングとフィルタリング"
   ]
  },
  {
   "cell_type": "code",
   "execution_count": 27,
   "metadata": {},
   "outputs": [
    {
     "data": {
      "text/plain": [
       "['8', '16', '18', '19', '12', '1', '6', '7']"
      ]
     },
     "execution_count": 27,
     "metadata": {},
     "output_type": "execute_result"
    }
   ],
   "source": [
    "mapObj = map(lambda n: str(n), [8, 16, 18, 19, 12, 1, 6, 7])\n",
    "list(mapObj)"
   ]
  },
  {
   "cell_type": "code",
   "execution_count": 29,
   "metadata": {},
   "outputs": [
    {
     "data": {
      "text/plain": [
       "[8, 16, 18, 12, 6]"
      ]
     },
     "execution_count": 29,
     "metadata": {},
     "output_type": "execute_result"
    }
   ],
   "source": [
    "filterObj = filter(lambda n: n % 2 == 0, [8, 16, 18, 19, 12, 1, 6, 7])\n",
    "list(filterObj)"
   ]
  },
  {
   "cell_type": "code",
   "execution_count": 30,
   "metadata": {},
   "outputs": [
    {
     "data": {
      "text/plain": [
       "['8', '16', '18', '19', '12', '1', '6', '7']"
      ]
     },
     "execution_count": 30,
     "metadata": {},
     "output_type": "execute_result"
    }
   ],
   "source": [
    "# リスト内包\n",
    "[str(n) for n in [8, 16, 18, 19, 12, 1, 6, 7]]"
   ]
  },
  {
   "cell_type": "code",
   "execution_count": 31,
   "metadata": {},
   "outputs": [
    {
     "data": {
      "text/plain": [
       "[8, 16, 18, 12, 6]"
      ]
     },
     "execution_count": 31,
     "metadata": {},
     "output_type": "execute_result"
    }
   ],
   "source": [
    "# リスト内包\n",
    "[n for n in [8, 16, 18, 19, 12, 1, 6, 7] if n % 2 == 0]"
   ]
  },
  {
   "cell_type": "markdown",
   "metadata": {},
   "source": [
    "## 10.5 戻り値はつねに同じデータ型であること"
   ]
  },
  {
   "cell_type": "markdown",
   "metadata": {},
   "source": [
    "## 10.6 例外を発生させる？それともエラーコードを返す？"
   ]
  },
  {
   "cell_type": "code",
   "execution_count": 33,
   "metadata": {},
   "outputs": [
    {
     "name": "stdout",
     "output_type": "stream",
     "text": [
      "Letters after b in \"Albert\":  ert\n",
      "Letters after b in \"Albert\":  Albert\n"
     ]
    }
   ],
   "source": [
    "print('Letters after b in \"Albert\": ', 'Albert'['Albert'.find('b') + 1:])\n",
    "\n",
    "print('Letters after b in \"Albert\": ', 'Albert'['Albert'.find('x') + 1:])"
   ]
  }
 ],
 "metadata": {
  "kernelspec": {
   "display_name": "Python 3.9.13 ('bbsp_env': venv)",
   "language": "python",
   "name": "python3"
  },
  "language_info": {
   "codemirror_mode": {
    "name": "ipython",
    "version": 3
   },
   "file_extension": ".py",
   "mimetype": "text/x-python",
   "name": "python",
   "nbconvert_exporter": "python",
   "pygments_lexer": "ipython3",
   "version": "3.9.13"
  },
  "orig_nbformat": 4,
  "vscode": {
   "interpreter": {
    "hash": "41766856ccac8481a99e9a987cf3d4692617aa51270f3852f64eefae6a9e02e0"
   }
  }
 },
 "nbformat": 4,
 "nbformat_minor": 2
}
