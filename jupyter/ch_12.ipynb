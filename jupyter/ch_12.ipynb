{
 "cells": [
  {
   "cell_type": "markdown",
   "metadata": {},
   "source": [
    "# Ch.12 Gitでプロジェクト管理"
   ]
  },
  {
   "cell_type": "markdown",
   "metadata": {},
   "source": [
    "## 12.1 Gitのコミットとリポジトリー"
   ]
  },
  {
   "cell_type": "markdown",
   "metadata": {},
   "source": [
    "## 12.2 cookiecutterを使って新しいPythonプロジェクトを作成する\n",
    "\n",
    "- https://cookiecutter.readthedocs.io/\n",
    "- https://github.com/asweigart/cookiecutter-basicpythonproject/"
   ]
  },
  {
   "cell_type": "markdown",
   "metadata": {},
   "source": [
    "## 12.3 Gitのインストール\n",
    "\n",
    "- https://git-scm.com/"
   ]
  },
  {
   "cell_type": "markdown",
   "metadata": {},
   "source": [
    "## 12.4 Gitを使う手順"
   ]
  },
  {
   "cell_type": "markdown",
   "metadata": {},
   "source": [
    "## 12.5 コンピューター上にGitリポジトリーを作成する\n",
    "\n",
    "- `watch`コマンドで`git status`を実行する\n",
    "  - https://www.macports.org"
   ]
  },
  {
   "cell_type": "markdown",
   "metadata": {},
   "source": [
    "## 12.6 コミットログの表示"
   ]
  },
  {
   "cell_type": "markdown",
   "metadata": {},
   "source": [
    "## 12.7 古い変更点の復元"
   ]
  },
  {
   "cell_type": "markdown",
   "metadata": {},
   "source": [
    "## 12.8 GitHubと`git push`コマンド"
   ]
  },
  {
   "cell_type": "markdown",
   "metadata": {},
   "source": [
    "## 12.9 まとめ\n",
    "\n",
    "- https://git-scm.com/book/ja/v2\n",
    "- https://ericsink.com/vcbe/index.html"
   ]
  }
 ],
 "metadata": {
  "language_info": {
   "name": "python"
  },
  "orig_nbformat": 4
 },
 "nbformat": 4,
 "nbformat_minor": 2
}
