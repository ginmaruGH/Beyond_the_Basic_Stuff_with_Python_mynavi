{
 "cells": [
  {
   "cell_type": "markdown",
   "metadata": {},
   "source": [
    "# Ch.13 パフォーマンスの測定とオーダー記法"
   ]
  },
  {
   "cell_type": "markdown",
   "metadata": {},
   "source": [
    "## 13.1 timeitモジュール\n",
    "\n",
    "- XOR（排他的論理和）\n",
    "  - `^`ビット演算子を使う\n",
    "- ランタイム\n",
    "  - プログラムやコードの実行時間\n",
    "- ラインタイム時のエラー\n",
    "  - プログラムが実行しているときに発生したエラー"
   ]
  },
  {
   "cell_type": "code",
   "execution_count": 1,
   "metadata": {},
   "outputs": [
    {
     "name": "stdout",
     "output_type": "stream",
     "text": [
      "42 101\n",
      "101 42\n"
     ]
    }
   ],
   "source": [
    "# XORアルゴリズム\n",
    "# 一時変数を使わずに、2つの整数値を入れ替える\n",
    "a, b = 42, 101\n",
    "print(a, b)\n",
    "# XOR演算\n",
    "a = a ^ b\n",
    "b = a ^ b\n",
    "a = a ^ b\n",
    "print(a, b)"
   ]
  },
  {
   "cell_type": "code",
   "execution_count": 8,
   "metadata": {},
   "outputs": [
    {
     "data": {
      "text/plain": [
       "0.17749016400000528"
      ]
     },
     "execution_count": 8,
     "metadata": {},
     "output_type": "execute_result"
    }
   ],
   "source": [
    "# XORアルゴリズムのランタイムを測定する\n",
    "import timeit\n",
    "\n",
    "timeit.timeit(\n",
    "    'a, b = 42, 101; a = a ^ b; b = a ^ b; a = a ^ b'\n",
    ")"
   ]
  },
  {
   "cell_type": "code",
   "execution_count": 14,
   "metadata": {},
   "outputs": [
    {
     "data": {
      "text/plain": [
       "0.17654987100002018"
      ]
     },
     "execution_count": 14,
     "metadata": {},
     "output_type": "execute_result"
    }
   ],
   "source": [
    "code = \"\"\"\n",
    "a, b = 42, 101 \n",
    "a = a ^ b \n",
    "b = a ^ b \n",
    "a = a ^ b\n",
    "\"\"\"\n",
    "timeit.timeit(code)\n"
   ]
  },
  {
   "cell_type": "code",
   "execution_count": 15,
   "metadata": {},
   "outputs": [
    {
     "data": {
      "text/plain": [
       "0.045358574000033514"
      ]
     },
     "execution_count": 15,
     "metadata": {},
     "output_type": "execute_result"
    }
   ],
   "source": [
    "# 一時変数を使って入れ替える\n",
    "timeit.timeit(\n",
    "\"\"\"a, b = 42, 101\n",
    "temp = a\n",
    "a = b\n",
    "b =temp\"\"\"\n",
    ")"
   ]
  },
  {
   "cell_type": "code",
   "execution_count": 17,
   "metadata": {},
   "outputs": [
    {
     "data": {
      "text/plain": [
       "0.037194651999925554"
      ]
     },
     "execution_count": 17,
     "metadata": {},
     "output_type": "execute_result"
    }
   ],
   "source": [
    "# アンパック\n",
    "# iterable unpacking\n",
    "timeit.timeit(\n",
    "\"\"\"a, b = 42, 101\n",
    "a, b = b, a\"\"\"\n",
    ")"
   ]
  },
  {
   "cell_type": "code",
   "execution_count": 18,
   "metadata": {},
   "outputs": [
    {
     "data": {
      "text/plain": [
       "7.088929824999923"
      ]
     },
     "execution_count": 18,
     "metadata": {},
     "output_type": "execute_result"
    }
   ],
   "source": [
    "# randomモジュールから\n",
    "# 1 ~ 100までの10_000_000個の乱数を生成する\n",
    "timeit.timeit(\n",
    "    'random.randint(1, 100)',\n",
    "    'import random',\n",
    "    number=10_000_000\n",
    ")"
   ]
  },
  {
   "cell_type": "code",
   "execution_count": 20,
   "metadata": {},
   "outputs": [],
   "source": [
    "# timeit.timeit()に渡した文字列コードは、\n",
    "# プログラムのほかの部分の変数や関数にアクセスできない\n",
    "\n",
    "# エラーになる\n",
    "# spam = 'hello'\n",
    "# timeit.timeit('print(spam)', number=1)"
   ]
  },
  {
   "cell_type": "code",
   "execution_count": 21,
   "metadata": {},
   "outputs": [
    {
     "name": "stdout",
     "output_type": "stream",
     "text": [
      "hello\n"
     ]
    },
    {
     "data": {
      "text/plain": [
       "0.00035724100007428206"
      ]
     },
     "execution_count": 21,
     "metadata": {},
     "output_type": "execute_result"
    }
   ],
   "source": [
    "spam = 'hello'\n",
    "timeit.timeit('print(spam)', number=1, globals=globals())"
   ]
  },
  {
   "cell_type": "markdown",
   "metadata": {},
   "source": [
    "プログラムが動くようになってから、より効率的なプログラムを作ることに集中する"
   ]
  },
  {
   "cell_type": "markdown",
   "metadata": {},
   "source": [
    "## 13.2 cProfileプロファイラー\n",
    "\n",
    "- プロファイリング\n",
    "  - プログラムの速度やメモリー使用量などを体系的に分析すること\n",
    "- `cProfile`モジュール\n",
    "  - Pythonのプロファイラー（プロファイリングを行うソフトウェア）"
   ]
  },
  {
   "cell_type": "code",
   "execution_count": 22,
   "metadata": {},
   "outputs": [
    {
     "name": "stdout",
     "output_type": "stream",
     "text": [
      "         4 function calls in 0.063 seconds\n",
      "\n",
      "   Ordered by: standard name\n",
      "\n",
      "   ncalls  tottime  percall  cumtime  percall filename:lineno(function)\n",
      "        1    0.063    0.063    0.063    0.063 514933858.py:5(addUpNumbers)\n",
      "        1    0.000    0.000    0.063    0.063 <string>:1(<module>)\n",
      "        1    0.000    0.000    0.063    0.063 {built-in method builtins.exec}\n",
      "        1    0.000    0.000    0.000    0.000 {method 'disable' of '_lsprof.Profiler' objects}\n",
      "\n",
      "\n"
     ]
    }
   ],
   "source": [
    "# 1 ~ 1_000_000までのすべての数字を合計する\n",
    "import time\n",
    "import cProfile\n",
    "\n",
    "def addUpNumbers():\n",
    "    total = 0\n",
    "    for i in range(1, 1_000_001):\n",
    "        total += i\n",
    "\n",
    "cProfile.run('addUpNumbers()')"
   ]
  },
  {
   "cell_type": "markdown",
   "metadata": {},
   "source": [
    "- ncalls\n",
    "  - その関数が呼ばれた回数\n",
    "- tottime\n",
    "  - ほかの関数呼び出しを除いた、その関数の総実行時間\n",
    "- percall\n",
    "  - tottimeをncallで割ったもの\n",
    "- cumtime\n",
    "  - ほかの関数呼び出しを含んだ、その関数の総実行時間\n",
    "- percall\n",
    "  - cumtimeをncallで割ったもの\n",
    "- filename:lineno(function)\n",
    "  - その関数がどのファイルの何行目にあるか"
   ]
  },
  {
   "cell_type": "markdown",
   "metadata": {},
   "source": [
    "- https://nostarch.com/crackingcodes\n",
    "  - rsaCipher.py\n",
    "  - al_sweigart_pubkey.txt\n",
    "  - al_sweigart_pubkey\n",
    "- 「Pythonでいかにして暗号を破るか」（ソシム、2020年）"
   ]
  },
  {
   "cell_type": "markdown",
   "metadata": {},
   "source": [
    "- アムダールの法則\n",
    "- タスク全体の高速化率 = 1 / ((1 - p) + (p / s))\n",
    "  - s: 構成要素に加えられた高速化の割合\n",
    "  - p: プログラム全体に占めるその構成要素の割合"
   ]
  },
  {
   "cell_type": "code",
   "execution_count": 27,
   "metadata": {},
   "outputs": [
    {
     "name": "stdout",
     "output_type": "stream",
     "text": [
      "         11748 function calls in 34.725 seconds\n",
      "\n",
      "   Ordered by: standard name\n",
      "\n",
      "   ncalls  tottime  percall  cumtime  percall filename:lineno(function)\n",
      "        1    0.000    0.000   34.725   34.725 <string>:1(<module>)\n",
      "        2    0.000    0.000    0.000    0.000 _bootlocale.py:33(getpreferredencoding)\n",
      "        1    0.000    0.000    0.000    0.000 codecs.py:186(__init__)\n",
      "        1    0.000    0.000    0.000    0.000 codecs.py:260(__init__)\n",
      "        1    0.000    0.000    0.000    0.000 codecs.py:309(__init__)\n",
      "        1    0.000    0.000    0.000    0.000 codecs.py:319(decode)\n",
      "        1    0.017    0.017   34.725   34.725 rsaCipher.py:104(encryptAndWriteToFile)\n",
      "        1    0.254    0.254    0.256    0.256 rsaCipher.py:36(getBlocksFromText)\n",
      "        1    0.013    0.013   34.705   34.705 rsaCipher.py:70(encryptMessage)\n",
      "        1    0.000    0.000    0.001    0.001 rsaCipher.py:94(readKeyFile)\n",
      "        1    0.000    0.000    0.000    0.000 {built-in method _codecs.utf_8_decode}\n",
      "        2    0.000    0.000    0.000    0.000 {built-in method _locale.nl_langinfo}\n",
      "        1    0.000    0.000   34.725   34.725 {built-in method builtins.exec}\n",
      "     2347    0.000    0.000    0.000    0.000 {built-in method builtins.len}\n",
      "     2344    0.001    0.000    0.001    0.000 {built-in method builtins.min}\n",
      "     2344   34.435    0.015   34.435    0.015 {built-in method builtins.pow}\n",
      "        2    0.001    0.000    0.001    0.000 {built-in method io.open}\n",
      "     4688    0.002    0.000    0.002    0.000 {method 'append' of 'list' objects}\n",
      "        2    0.000    0.000    0.000    0.000 {method 'close' of '_io.TextIOWrapper' objects}\n",
      "        1    0.000    0.000    0.000    0.000 {method 'disable' of '_lsprof.Profiler' objects}\n",
      "        1    0.000    0.000    0.000    0.000 {method 'encode' of 'str' objects}\n",
      "        1    0.001    0.001    0.001    0.001 {method 'join' of 'str' objects}\n",
      "        1    0.000    0.000    0.000    0.000 {method 'read' of '_io.TextIOWrapper' objects}\n",
      "        1    0.000    0.000    0.000    0.000 {method 'split' of 'str' objects}\n",
      "        1    0.001    0.001    0.001    0.001 {method 'write' of '_io.TextIOWrapper' objects}\n",
      "\n",
      "\n"
     ]
    }
   ],
   "source": [
    "import cProfile\n",
    "import rsaCipher\n",
    "\n",
    "cProfile.run(\n",
    "    \"rsaCipher.encryptAndWriteToFile('encrypted_file.txt', 'al_sweigart_pubkey.txt', 'abc'*100000)\"\n",
    ")\n"
   ]
  },
  {
   "cell_type": "markdown",
   "metadata": {},
   "source": [
    "## 13.3 オーダー記法について"
   ]
  }
 ],
 "metadata": {
  "kernelspec": {
   "display_name": "Python 3.9.13 ('bbsp_env': venv)",
   "language": "python",
   "name": "python3"
  },
  "language_info": {
   "codemirror_mode": {
    "name": "ipython",
    "version": 3
   },
   "file_extension": ".py",
   "mimetype": "text/x-python",
   "name": "python",
   "nbconvert_exporter": "python",
   "pygments_lexer": "ipython3",
   "version": "3.9.13"
  },
  "orig_nbformat": 4,
  "vscode": {
   "interpreter": {
    "hash": "41766856ccac8481a99e9a987cf3d4692617aa51270f3852f64eefae6a9e02e0"
   }
  }
 },
 "nbformat": 4,
 "nbformat_minor": 2
}
