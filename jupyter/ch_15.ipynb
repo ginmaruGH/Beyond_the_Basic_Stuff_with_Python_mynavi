{
 "cells": [
  {
   "cell_type": "markdown",
   "metadata": {},
   "source": [
    "# Ch.15 オブジェクト指向プログラミングとクラス\n",
    "\n",
    "- オブジェクト指向\n",
    "  - （OOP: Object-Oriented Programming）\n",
    "  - プログラミング言語の機能の1つ\n",
    "  - 変数や関数をクラスと呼ばれる新しいデータ型にまとめて、\n",
    "  - そこからオブジェクトを作成すること。\n",
    "  - コードをクラスにまとめることで、巨大なプログラムであっても理解しやすくデバッグしやすい小さなパーツに分割することができる。\n",
    "  - 小さなプログラムでは、OOPは組織化するというより無駄に形式化することになる。\n",
    "- [Stop Writing Classes (PyCon2012)](https://youtu.be/o9pEzgHorH0)"
   ]
  },
  {
   "cell_type": "markdown",
   "metadata": {},
   "source": [
    "## 15.1 事例から学ぶ：書式への入力"
   ]
  },
  {
   "cell_type": "markdown",
   "metadata": {},
   "source": [
    "## 15.2 クラスからオブジェクトを作成する"
   ]
  },
  {
   "cell_type": "code",
   "execution_count": 2,
   "metadata": {},
   "outputs": [
    {
     "name": "stdout",
     "output_type": "stream",
     "text": [
      "1999-10-31\n",
      "1999\n",
      "10\n",
      "31\n",
      "6\n"
     ]
    }
   ],
   "source": [
    "import datetime\n",
    "\n",
    "birthday = datetime.date(1999, 10, 31)\n",
    "print(birthday)\n",
    "print(birthday.year)\n",
    "print(birthday.month)\n",
    "print(birthday.day)\n",
    "print(birthday.weekday())"
   ]
  },
  {
   "cell_type": "markdown",
   "metadata": {},
   "source": [
    "## 15.3 シンプルなクラス WixCoin の作成"
   ]
  },
  {
   "cell_type": "code",
   "execution_count": 3,
   "metadata": {},
   "outputs": [
    {
     "name": "stdout",
     "output_type": "stream",
     "text": [
      "<wizcoin.WixCoin object at 0x10925ba30>\n",
      "G:  2 S:  5 K:  99\n",
      "Total value:  1230\n",
      "Weight:  613.906 grams\n",
      "\n",
      "<wizcoin.WixCoin object at 0x10925be20>\n",
      "G:  13 S:  0 K:  0\n",
      "Total value:  6409\n",
      "Weight:  404.339 grams\n"
     ]
    }
   ],
   "source": [
    "import wizcoin\n",
    "\n",
    "purse = wizcoin.WixCoin(2, 5, 99)  # 引数の整数は__init__()に渡される\n",
    "print(purse)\n",
    "print('G: ', purse.galleons, 'S: ', purse.sickles, 'K: ', purse.knuts)\n",
    "print('Total value: ', purse.value())\n",
    "print('Weight: ', purse.weightInGrams(), 'grams')\n",
    "print()\n",
    "\n",
    "coinJar = wizcoin.WixCoin(13, 0, 0)\n",
    "print(coinJar)\n",
    "print('G: ', coinJar.galleons, 'S: ', coinJar.sickles, 'K: ', coinJar.knuts)\n",
    "print('Total value: ', coinJar.value())\n",
    "print('Weight: ', coinJar.weightInGrams(), 'grams')\n"
   ]
  },
  {
   "cell_type": "markdown",
   "metadata": {},
   "source": [
    "### 15.3.1 メソッド、`__int__()`、`self`"
   ]
  },
  {
   "cell_type": "markdown",
   "metadata": {},
   "source": [
    "### 15.3.2 属性"
   ]
  },
  {
   "cell_type": "code",
   "execution_count": 4,
   "metadata": {},
   "outputs": [
    {
     "name": "stdout",
     "output_type": "stream",
     "text": [
      "7\n",
      "17\n",
      "3\n",
      "a new attr\n"
     ]
    }
   ],
   "source": [
    "import wizcoin\n",
    "\n",
    "change = wizcoin.WixCoin(9, 7, 20)\n",
    "print(change.sickles)\n",
    "change.sickles += 10\n",
    "print(change.sickles)\n",
    "\n",
    "pile = wizcoin.WixCoin(2, 3, 31)\n",
    "print(pile.sickles)\n",
    "pile.someNewAttribute = 'a new attr'  # 新たな属性を作成\n",
    "print(pile.someNewAttribute)"
   ]
  },
  {
   "cell_type": "markdown",
   "metadata": {},
   "source": [
    "### 15.3.3 プライベート属性とプライベートメソッド"
   ]
  },
  {
   "cell_type": "code",
   "execution_count": 5,
   "metadata": {},
   "outputs": [],
   "source": [
    "class BankAccount:\n",
    "    def __init__(self, accountHolder):\n",
    "        # BankAccountのメソッドはself._balanceにアクセルできるが、\n",
    "        # クラス外のコードからはアクセスできない\n",
    "        self._balance = 0\n",
    "        self._name = accountHolder\n",
    "        with open(self._name + 'Ledger.txt', 'w') as ledgerFile:\n",
    "            ledgerFile.write('Balance is 0\\n')\n",
    "\n",
    "    def deposit(self, amount):\n",
    "        if amount <= 0:\n",
    "            return  # マイナスの残高は不可\n",
    "        self._balance += amount\n",
    "        with open(self._name + 'Ledger.txt', 'a') as ledgerFile:\n",
    "            ledgerFile.write('Deposit ' + str(amount) + '\\n')\n",
    "            ledgerFile.write('Balance is  ' + str(self._balance) + '\\n')\n",
    "\n",
    "    def withdraw(self, amount):\n",
    "        if self._balance < amount or amount < 0:\n",
    "            return  # 残高不足もしくは引き出し額がマイナス\n",
    "        self._balance -= amount\n",
    "        with open(self._name + 'Ledger.txt', 'a') as ledgerFile:\n",
    "            ledgerFile.write('Withdraw ' + str(amount) + '\\n')\n",
    "            ledgerFile.write('Balance is  ' + str(self._balance) + '\\n')"
   ]
  },
  {
   "cell_type": "code",
   "execution_count": 6,
   "metadata": {},
   "outputs": [],
   "source": [
    "acct = BankAccount('Alice')  # アリスの口座を作成\n",
    "acct.deposit(120)            # deposit()で_balanceが変更される\n",
    "acct.withdraw(40)            # withdraw()で_balanceが変更される\n",
    "\n",
    "# BankAccount外で_nameや_balanceを変更できてしまう\n",
    "# しかし、変更してはいけない\n",
    "acct._balance = 1_000_000_000\n",
    "acct.withdraw(1_000)\n",
    "\n",
    "acct._name = 'Bob'    # ボブの台帳に変えてしまう！\n",
    "acct.withdraw(1_000)  # 出金記録がBobLedger.txtに記録されてしまう！"
   ]
  },
  {
   "cell_type": "markdown",
   "metadata": {},
   "source": [
    "## 15.4 type()関数と__qualname__属性"
   ]
  },
  {
   "cell_type": "code",
   "execution_count": 7,
   "metadata": {},
   "outputs": [
    {
     "data": {
      "text/plain": [
       "int"
      ]
     },
     "execution_count": 7,
     "metadata": {},
     "output_type": "execute_result"
    }
   ],
   "source": [
    "# 42はint型\n",
    "type(42)"
   ]
  },
  {
   "cell_type": "code",
   "execution_count": 8,
   "metadata": {},
   "outputs": [
    {
     "data": {
      "text/plain": [
       "int"
      ]
     },
     "execution_count": 8,
     "metadata": {},
     "output_type": "execute_result"
    }
   ],
   "source": [
    "# intは整数データ型の型オブジェクト\n",
    "int"
   ]
  },
  {
   "cell_type": "code",
   "execution_count": 9,
   "metadata": {},
   "outputs": [
    {
     "data": {
      "text/plain": [
       "True"
      ]
     },
     "execution_count": 9,
     "metadata": {},
     "output_type": "execute_result"
    }
   ],
   "source": [
    "# 整数に対する42の型チェック\n",
    "type(42) == int"
   ]
  },
  {
   "cell_type": "code",
   "execution_count": 10,
   "metadata": {},
   "outputs": [
    {
     "data": {
      "text/plain": [
       "False"
      ]
     },
     "execution_count": 10,
     "metadata": {},
     "output_type": "execute_result"
    }
   ],
   "source": [
    "# 整数に対する'Hello\"の型チェック\n",
    "type('Hello') == int"
   ]
  },
  {
   "cell_type": "code",
   "execution_count": 11,
   "metadata": {},
   "outputs": [
    {
     "data": {
      "text/plain": [
       "False"
      ]
     },
     "execution_count": 11,
     "metadata": {},
     "output_type": "execute_result"
    }
   ],
   "source": [
    "# WizCoin型に対する42の型チェック\n",
    "import wizcoin\n",
    "type(42) == wizcoin.WixCoin"
   ]
  },
  {
   "cell_type": "code",
   "execution_count": 12,
   "metadata": {},
   "outputs": [
    {
     "data": {
      "text/plain": [
       "True"
      ]
     },
     "execution_count": 12,
     "metadata": {},
     "output_type": "execute_result"
    }
   ],
   "source": [
    "# WizCoin型に対するpurseの型チェック\n",
    "purse = wizcoin.WixCoin(2, 5, 10)\n",
    "type(purse) == wizcoin.WixCoin"
   ]
  },
  {
   "cell_type": "code",
   "execution_count": 13,
   "metadata": {},
   "outputs": [
    {
     "data": {
      "text/plain": [
       "\"<class 'int'>\""
      ]
     },
     "execution_count": 13,
     "metadata": {},
     "output_type": "execute_result"
    }
   ],
   "source": [
    "# 型オブジェクトをstr()に渡すとわかりにくい文字列が返る\n",
    "str(type(42))"
   ]
  },
  {
   "cell_type": "code",
   "execution_count": 14,
   "metadata": {},
   "outputs": [
    {
     "data": {
      "text/plain": [
       "'int'"
      ]
     },
     "execution_count": 14,
     "metadata": {},
     "output_type": "execute_result"
    }
   ],
   "source": [
    "# __qualname__属性を使うとわかりやすい\n",
    "type(42).__qualname__"
   ]
  },
  {
   "cell_type": "markdown",
   "metadata": {},
   "source": [
    "## 15.5 非オブジェクト思考とオブジェクト指向：三目並べの例"
   ]
  },
  {
   "cell_type": "markdown",
   "metadata": {},
   "source": [
    "## 15.6 実社会でのクラス設計は難しい\n",
    "\n",
    "- [Schemas for the Real World (PyCon2015)](https://youtu.be/PYYfVqtcWQY/)\n",
    "- [Hi! My name is ... (north Bay Python 2018)](https://youtu.be/NIebelIpdYk/)\n",
    "- Falsehoods Programmers Believe\n",
    "- [Social Security Cards Explained](https://youtu.be/Erp8AUouus/)"
   ]
  }
 ],
 "metadata": {
  "kernelspec": {
   "display_name": "Python 3.9.13 64-bit",
   "language": "python",
   "name": "python3"
  },
  "language_info": {
   "codemirror_mode": {
    "name": "ipython",
    "version": 3
   },
   "file_extension": ".py",
   "mimetype": "text/x-python",
   "name": "python",
   "nbconvert_exporter": "python",
   "pygments_lexer": "ipython3",
   "version": "3.9.13"
  },
  "orig_nbformat": 4,
  "vscode": {
   "interpreter": {
    "hash": "aee8b7b246df8f9039afb4144a1f6fd8d2ca17a180786b69acc140d282b71a49"
   }
  }
 },
 "nbformat": 4,
 "nbformat_minor": 2
}
