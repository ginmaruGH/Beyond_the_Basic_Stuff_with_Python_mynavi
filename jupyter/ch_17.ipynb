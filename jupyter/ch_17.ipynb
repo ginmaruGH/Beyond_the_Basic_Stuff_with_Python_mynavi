{
 "cells": [
  {
   "cell_type": "markdown",
   "metadata": {},
   "source": [
    "# Ch.17 パイソニックなオブジェクト指向：プロパティとダンダーメソッド"
   ]
  },
  {
   "cell_type": "markdown",
   "metadata": {},
   "source": [
    "## 17.1 プロパティ"
   ]
  },
  {
   "cell_type": "markdown",
   "metadata": {},
   "source": [
    "### 17.1.1 属性をプロパティにする"
   ]
  },
  {
   "cell_type": "code",
   "execution_count": 1,
   "metadata": {},
   "outputs": [
    {
     "name": "stdout",
     "output_type": "stream",
     "text": [
      "ある初期値\n",
      "別の値\n"
     ]
    }
   ],
   "source": [
    "class ClassWithRegularAttributes:\n",
    "    def __init__(self, somParameter):\n",
    "        self.someAttribute = somParameter\n",
    "\n",
    "\n",
    "obj = ClassWithRegularAttributes('ある初期値')\n",
    "print(obj.someAttribute)  # 'ある初期値'と出力\n",
    "obj.someAttribute = '別の値'\n",
    "print(obj.someAttribute)  # '別の値'と出力\n",
    "del obj.someAttribute     # someAttributeを削除"
   ]
  },
  {
   "cell_type": "code",
   "execution_count": 3,
   "metadata": {},
   "outputs": [
    {
     "name": "stdout",
     "output_type": "stream",
     "text": [
      "ある初期値\n",
      "別の値\n"
     ]
    }
   ],
   "source": [
    "class ClassWithProperties:\n",
    "    def __init__(self):\n",
    "        self.someAttribute = 'ある初期値'\n",
    "\n",
    "    @property\n",
    "    def someAttribute(self):  # \"getter\"メソッドに相当する\n",
    "        return self._someAttribute\n",
    "\n",
    "    @someAttribute.setter\n",
    "    def someAttribute(self, value):  # \"setter\"メソッドに相当する\n",
    "        self._someAttribute = value\n",
    "\n",
    "    @someAttribute.deleter\n",
    "    def someAttribute(self):  # \"deleter\"メソッドに相当する\n",
    "        del self._someAttribute\n",
    "\n",
    "\n",
    "obj = ClassWithProperties()\n",
    "print(obj.someAttribute)  # 'ある初期値'と出力\n",
    "obj.someAttribute = '別の値'\n",
    "print(obj.someAttribute)  # '別の値'と出力\n",
    "del obj.someAttribute     # _someAttributeを削除"
   ]
  },
  {
   "cell_type": "code",
   "execution_count": 4,
   "metadata": {},
   "outputs": [
    {
     "ename": "RecursionError",
     "evalue": "maximum recursion depth exceeded",
     "output_type": "error",
     "traceback": [
      "\u001b[0;31m---------------------------------------------------------------------------\u001b[0m",
      "\u001b[0;31mRecursionError\u001b[0m                            Traceback (most recent call last)",
      "\u001b[1;32m/Users/takeru/Library/CloudStorage/OneDrive-個人用/Learn/Python/Beyond_the_Basic_Stuff_with_Python_mynavi/jupyter/ch_17.ipynb Cell 6'\u001b[0m in \u001b[0;36m<cell line: 17>\u001b[0;34m()\u001b[0m\n\u001b[1;32m     <a href='vscode-notebook-cell:/Users/takeru/Library/CloudStorage/OneDrive-%E5%80%8B%E4%BA%BA%E7%94%A8/Learn/Python/Beyond_the_Basic_Stuff_with_Python_mynavi/jupyter/ch_17.ipynb#ch0000005?line=12'>13</a>\u001b[0m         \u001b[39mself\u001b[39m\u001b[39m.\u001b[39m_someAttribute \u001b[39m=\u001b[39m value\n\u001b[1;32m     <a href='vscode-notebook-cell:/Users/takeru/Library/CloudStorage/OneDrive-%E5%80%8B%E4%BA%BA%E7%94%A8/Learn/Python/Beyond_the_Basic_Stuff_with_Python_mynavi/jupyter/ch_17.ipynb#ch0000005?line=15'>16</a>\u001b[0m obj \u001b[39m=\u001b[39m ClassWithBadProperty()\n\u001b[0;32m---> <a href='vscode-notebook-cell:/Users/takeru/Library/CloudStorage/OneDrive-%E5%80%8B%E4%BA%BA%E7%94%A8/Learn/Python/Beyond_the_Basic_Stuff_with_Python_mynavi/jupyter/ch_17.ipynb#ch0000005?line=16'>17</a>\u001b[0m \u001b[39mprint\u001b[39m(obj\u001b[39m.\u001b[39;49msomeAttribute)\n",
      "\u001b[1;32m/Users/takeru/Library/CloudStorage/OneDrive-個人用/Learn/Python/Beyond_the_Basic_Stuff_with_Python_mynavi/jupyter/ch_17.ipynb Cell 6'\u001b[0m in \u001b[0;36mClassWithBadProperty.someAttribute\u001b[0;34m(self)\u001b[0m\n\u001b[1;32m      <a href='vscode-notebook-cell:/Users/takeru/Library/CloudStorage/OneDrive-%E5%80%8B%E4%BA%BA%E7%94%A8/Learn/Python/Beyond_the_Basic_Stuff_with_Python_mynavi/jupyter/ch_17.ipynb#ch0000005?line=4'>5</a>\u001b[0m \u001b[39m@property\u001b[39m\n\u001b[1;32m      <a href='vscode-notebook-cell:/Users/takeru/Library/CloudStorage/OneDrive-%E5%80%8B%E4%BA%BA%E7%94%A8/Learn/Python/Beyond_the_Basic_Stuff_with_Python_mynavi/jupyter/ch_17.ipynb#ch0000005?line=5'>6</a>\u001b[0m \u001b[39mdef\u001b[39;00m \u001b[39msomeAttribute\u001b[39m(\u001b[39mself\u001b[39m):  \u001b[39m# \"getter\"メソッドに相当する\u001b[39;00m\n\u001b[1;32m      <a href='vscode-notebook-cell:/Users/takeru/Library/CloudStorage/OneDrive-%E5%80%8B%E4%BA%BA%E7%94%A8/Learn/Python/Beyond_the_Basic_Stuff_with_Python_mynavi/jupyter/ch_17.ipynb#ch0000005?line=6'>7</a>\u001b[0m     \u001b[39m# self._someAttributeのアンダースコア（_）をつけ忘れたため、\u001b[39;00m\n\u001b[1;32m      <a href='vscode-notebook-cell:/Users/takeru/Library/CloudStorage/OneDrive-%E5%80%8B%E4%BA%BA%E7%94%A8/Learn/Python/Beyond_the_Basic_Stuff_with_Python_mynavi/jupyter/ch_17.ipynb#ch0000005?line=7'>8</a>\u001b[0m     \u001b[39m# プロパティを使うことになり、再度getterメソッドが呼ばれることになる\u001b[39;00m\n\u001b[0;32m----> <a href='vscode-notebook-cell:/Users/takeru/Library/CloudStorage/OneDrive-%E5%80%8B%E4%BA%BA%E7%94%A8/Learn/Python/Beyond_the_Basic_Stuff_with_Python_mynavi/jupyter/ch_17.ipynb#ch0000005?line=8'>9</a>\u001b[0m     \u001b[39mreturn\u001b[39;00m \u001b[39mself\u001b[39;49m\u001b[39m.\u001b[39;49msomeAttribute\n",
      "\u001b[1;32m/Users/takeru/Library/CloudStorage/OneDrive-個人用/Learn/Python/Beyond_the_Basic_Stuff_with_Python_mynavi/jupyter/ch_17.ipynb Cell 6'\u001b[0m in \u001b[0;36mClassWithBadProperty.someAttribute\u001b[0;34m(self)\u001b[0m\n\u001b[1;32m      <a href='vscode-notebook-cell:/Users/takeru/Library/CloudStorage/OneDrive-%E5%80%8B%E4%BA%BA%E7%94%A8/Learn/Python/Beyond_the_Basic_Stuff_with_Python_mynavi/jupyter/ch_17.ipynb#ch0000005?line=4'>5</a>\u001b[0m \u001b[39m@property\u001b[39m\n\u001b[1;32m      <a href='vscode-notebook-cell:/Users/takeru/Library/CloudStorage/OneDrive-%E5%80%8B%E4%BA%BA%E7%94%A8/Learn/Python/Beyond_the_Basic_Stuff_with_Python_mynavi/jupyter/ch_17.ipynb#ch0000005?line=5'>6</a>\u001b[0m \u001b[39mdef\u001b[39;00m \u001b[39msomeAttribute\u001b[39m(\u001b[39mself\u001b[39m):  \u001b[39m# \"getter\"メソッドに相当する\u001b[39;00m\n\u001b[1;32m      <a href='vscode-notebook-cell:/Users/takeru/Library/CloudStorage/OneDrive-%E5%80%8B%E4%BA%BA%E7%94%A8/Learn/Python/Beyond_the_Basic_Stuff_with_Python_mynavi/jupyter/ch_17.ipynb#ch0000005?line=6'>7</a>\u001b[0m     \u001b[39m# self._someAttributeのアンダースコア（_）をつけ忘れたため、\u001b[39;00m\n\u001b[1;32m      <a href='vscode-notebook-cell:/Users/takeru/Library/CloudStorage/OneDrive-%E5%80%8B%E4%BA%BA%E7%94%A8/Learn/Python/Beyond_the_Basic_Stuff_with_Python_mynavi/jupyter/ch_17.ipynb#ch0000005?line=7'>8</a>\u001b[0m     \u001b[39m# プロパティを使うことになり、再度getterメソッドが呼ばれることになる\u001b[39;00m\n\u001b[0;32m----> <a href='vscode-notebook-cell:/Users/takeru/Library/CloudStorage/OneDrive-%E5%80%8B%E4%BA%BA%E7%94%A8/Learn/Python/Beyond_the_Basic_Stuff_with_Python_mynavi/jupyter/ch_17.ipynb#ch0000005?line=8'>9</a>\u001b[0m     \u001b[39mreturn\u001b[39;00m \u001b[39mself\u001b[39;49m\u001b[39m.\u001b[39;49msomeAttribute\n",
      "    \u001b[0;31m[... skipping similar frames: ClassWithBadProperty.someAttribute at line 9 (2970 times)]\u001b[0m\n",
      "\u001b[1;32m/Users/takeru/Library/CloudStorage/OneDrive-個人用/Learn/Python/Beyond_the_Basic_Stuff_with_Python_mynavi/jupyter/ch_17.ipynb Cell 6'\u001b[0m in \u001b[0;36mClassWithBadProperty.someAttribute\u001b[0;34m(self)\u001b[0m\n\u001b[1;32m      <a href='vscode-notebook-cell:/Users/takeru/Library/CloudStorage/OneDrive-%E5%80%8B%E4%BA%BA%E7%94%A8/Learn/Python/Beyond_the_Basic_Stuff_with_Python_mynavi/jupyter/ch_17.ipynb#ch0000005?line=4'>5</a>\u001b[0m \u001b[39m@property\u001b[39m\n\u001b[1;32m      <a href='vscode-notebook-cell:/Users/takeru/Library/CloudStorage/OneDrive-%E5%80%8B%E4%BA%BA%E7%94%A8/Learn/Python/Beyond_the_Basic_Stuff_with_Python_mynavi/jupyter/ch_17.ipynb#ch0000005?line=5'>6</a>\u001b[0m \u001b[39mdef\u001b[39;00m \u001b[39msomeAttribute\u001b[39m(\u001b[39mself\u001b[39m):  \u001b[39m# \"getter\"メソッドに相当する\u001b[39;00m\n\u001b[1;32m      <a href='vscode-notebook-cell:/Users/takeru/Library/CloudStorage/OneDrive-%E5%80%8B%E4%BA%BA%E7%94%A8/Learn/Python/Beyond_the_Basic_Stuff_with_Python_mynavi/jupyter/ch_17.ipynb#ch0000005?line=6'>7</a>\u001b[0m     \u001b[39m# self._someAttributeのアンダースコア（_）をつけ忘れたため、\u001b[39;00m\n\u001b[1;32m      <a href='vscode-notebook-cell:/Users/takeru/Library/CloudStorage/OneDrive-%E5%80%8B%E4%BA%BA%E7%94%A8/Learn/Python/Beyond_the_Basic_Stuff_with_Python_mynavi/jupyter/ch_17.ipynb#ch0000005?line=7'>8</a>\u001b[0m     \u001b[39m# プロパティを使うことになり、再度getterメソッドが呼ばれることになる\u001b[39;00m\n\u001b[0;32m----> <a href='vscode-notebook-cell:/Users/takeru/Library/CloudStorage/OneDrive-%E5%80%8B%E4%BA%BA%E7%94%A8/Learn/Python/Beyond_the_Basic_Stuff_with_Python_mynavi/jupyter/ch_17.ipynb#ch0000005?line=8'>9</a>\u001b[0m     \u001b[39mreturn\u001b[39;00m \u001b[39mself\u001b[39;49m\u001b[39m.\u001b[39;49msomeAttribute\n",
      "\u001b[0;31mRecursionError\u001b[0m: maximum recursion depth exceeded"
     ]
    }
   ],
   "source": [
    "class ClassWithBadProperty:\n",
    "    def __init__(self):\n",
    "        self.someAttribute = 'ある初期値'\n",
    "\n",
    "    @property\n",
    "    def someAttribute(self):  # \"getter\"メソッドに相当する\n",
    "        # self._someAttributeのアンダースコア（_）をつけ忘れたため、\n",
    "        # プロパティを使うことになり、再度getterメソッドが呼ばれることになる\n",
    "        return self.someAttribute\n",
    "\n",
    "    @someAttribute.setter\n",
    "    def someAttribute(self, value):  # \"setter\"メソッドに相当する\n",
    "        self._someAttribute = value\n",
    "\n",
    "\n",
    "obj = ClassWithBadProperty()\n",
    "print(obj.someAttribute)  # getterがさらにgetterを呼び出すのでエラーになる"
   ]
  },
  {
   "cell_type": "markdown",
   "metadata": {},
   "source": [
    "17.1.2 setterを使ってデータを検証する"
   ]
  }
 ],
 "metadata": {
  "kernelspec": {
   "display_name": "Python 3.9.13 64-bit",
   "language": "python",
   "name": "python3"
  },
  "language_info": {
   "codemirror_mode": {
    "name": "ipython",
    "version": 3
   },
   "file_extension": ".py",
   "mimetype": "text/x-python",
   "name": "python",
   "nbconvert_exporter": "python",
   "pygments_lexer": "ipython3",
   "version": "3.9.13"
  },
  "orig_nbformat": 4,
  "vscode": {
   "interpreter": {
    "hash": "aee8b7b246df8f9039afb4144a1f6fd8d2ca17a180786b69acc140d282b71a49"
   }
  }
 },
 "nbformat": 4,
 "nbformat_minor": 2
}
