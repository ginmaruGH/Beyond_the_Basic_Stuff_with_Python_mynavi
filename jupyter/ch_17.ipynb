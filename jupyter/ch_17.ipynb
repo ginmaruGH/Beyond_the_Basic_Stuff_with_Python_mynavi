{
 "cells": [
  {
   "cell_type": "markdown",
   "metadata": {},
   "source": [
    "# Ch.17 パイソニックなオブジェクト指向：プロパティとダンダーメソッド"
   ]
  },
  {
   "cell_type": "markdown",
   "metadata": {},
   "source": [
    "## 17.1 プロパティ"
   ]
  },
  {
   "cell_type": "markdown",
   "metadata": {},
   "source": [
    "### 17.1.1 属性をプロパティにする"
   ]
  },
  {
   "cell_type": "code",
   "execution_count": null,
   "metadata": {},
   "outputs": [],
   "source": [
    "class ClassWithRegularAttributes:\n",
    "    def __init__(self, somParameter):\n",
    "        self.someAttribute = somParameter\n",
    "\n",
    "\n",
    "obj = ClassWithRegularAttributes('ある初期値')\n",
    "print(obj.someAttribute)  # 'ある初期値'と出力\n",
    "obj.someAttribute = '別の値'\n",
    "print(obj.someAttribute)  # '別の値'と出力\n",
    "del obj.someAttribute     # someAttributeを削除"
   ]
  },
  {
   "cell_type": "code",
   "execution_count": null,
   "metadata": {},
   "outputs": [],
   "source": [
    "class ClassWithProperties:\n",
    "    def __init__(self):\n",
    "        self.someAttribute = 'ある初期値'\n",
    "\n",
    "    @property\n",
    "    def someAttribute(self):  # \"getter\"メソッドに相当する\n",
    "        return self._someAttribute\n",
    "\n",
    "    @someAttribute.setter\n",
    "    def someAttribute(self, value):  # \"setter\"メソッドに相当する\n",
    "        self._someAttribute = value\n",
    "\n",
    "    @someAttribute.deleter\n",
    "    def someAttribute(self):  # \"deleter\"メソッドに相当する\n",
    "        del self._someAttribute\n",
    "\n",
    "\n",
    "obj = ClassWithProperties()\n",
    "print(obj.someAttribute)  # 'ある初期値'と出力\n",
    "obj.someAttribute = '別の値'\n",
    "print(obj.someAttribute)  # '別の値'と出力\n",
    "del obj.someAttribute     # _someAttributeを削除"
   ]
  },
  {
   "cell_type": "code",
   "execution_count": null,
   "metadata": {},
   "outputs": [],
   "source": [
    "class ClassWithBadProperty:\n",
    "    def __init__(self):\n",
    "        self.someAttribute = 'ある初期値'\n",
    "\n",
    "    @property\n",
    "    def someAttribute(self):  # \"getter\"メソッドに相当する\n",
    "        # self._someAttributeのアンダースコア（_）をつけ忘れたため、\n",
    "        # プロパティを使うことになり、再度getterメソッドが呼ばれることになる\n",
    "        return self.someAttribute\n",
    "\n",
    "    @someAttribute.setter\n",
    "    def someAttribute(self, value):  # \"setter\"メソッドに相当する\n",
    "        self._someAttribute = value\n",
    "\n",
    "\n",
    "obj = ClassWithBadProperty()\n",
    "print(obj.someAttribute)  # getterがさらにgetterを呼び出すのでエラーになる"
   ]
  },
  {
   "cell_type": "markdown",
   "metadata": {},
   "source": [
    "### 17.1.2 setterを使ってデータを検証する"
   ]
  },
  {
   "cell_type": "markdown",
   "metadata": {},
   "source": [
    "### 17.1.3 読み取り専用のプロパティ"
   ]
  },
  {
   "cell_type": "code",
   "execution_count": null,
   "metadata": {},
   "outputs": [],
   "source": [
    "class WizCoinException(Exception):\n",
    "    \"\"\"wizcoinモジュールが誤用された場合にこの例外を発生させる\"\"\"\n",
    "    pass\n",
    "\n",
    "\n",
    "class WizCoin:\n",
    "    def __init__(self, galleons, sickles, knuts):\n",
    "        \"\"\"galleons, sickles, knutsをセットしてWizCoinオブジェクトを作る。\"\"\"\n",
    "        self.galleons = galleons\n",
    "        self.sickles = sickles\n",
    "        self.knuts = knuts\n",
    "        # 注意：__init__()メソッドは値を返さない\n",
    "\n",
    "    def value(self):\n",
    "        \"\"\"このWizCoinオブジェクトに含まれる全コインの価値（単位はknuts）\"\"\"\n",
    "        return (self.galleons * 17 * 29) + (self.sickles * 29) + (self.knuts)\n",
    "\n",
    "    def weightInGrams(self):\n",
    "        \"\"\"コインの重さをグラムの単位で返す\"\"\"\n",
    "        return (self.galleons * 31.103) + (self.sickles * 11.34) + (self.knuts * 5.0)\n",
    "\n",
    "    @property\n",
    "    def galleons(self):\n",
    "        \"\"\"このオブジェクトのガリオン（galleon）硬貨の数を返す。\"\"\"\n",
    "        return self._galleons\n",
    "\n",
    "    @galleons.setter\n",
    "    def galleons(self, value):\n",
    "        if not isinstance(value, int):\n",
    "            raise WizCoinException(\n",
    "                'galleons attr must be set to an int, not a ' + \n",
    "                value.__class__.__qualname__\n",
    "            )\n",
    "        if value < 0:\n",
    "            raise WizCoinException(\n",
    "                'galleons attr must be a positive int, not ' + \n",
    "                value.__class__.__qualname__\n",
    "            )\n",
    "        self._galleons = value\n",
    "\n",
    "    @property\n",
    "    def sickles(self):\n",
    "        \"\"\"このオブジェクトのシックル（sickle）硬貨の数を返す。\"\"\"\n",
    "        return self._sickles\n",
    "\n",
    "    @sickles.setter\n",
    "    def sickles(self, value):\n",
    "        if not isinstance(value, int):\n",
    "            raise WizCoinException(\n",
    "                'sickles attr must be set to an int, not a ' +\n",
    "                value.__class__.__qualname__\n",
    "            )\n",
    "        if value < 0:\n",
    "            raise WizCoinException(\n",
    "                'sickles attr must be a positive int, not ' +\n",
    "                value.__class__.__qualname__\n",
    "            )\n",
    "        self._sickles = value\n",
    "\n",
    "    @property\n",
    "    def knuts(self):\n",
    "        \"\"\"このオブジェクトのクヌート（knut）硬貨の数を返す。\"\"\"\n",
    "        return self._knuts\n",
    "\n",
    "    @knuts.setter\n",
    "    def knuts(self, value):\n",
    "        if not isinstance(value, int):\n",
    "            raise WizCoinException(\n",
    "                'knuts attr must be set to an int, not a ' +\n",
    "                value.__class__.__qualname__\n",
    "            )\n",
    "        if value < 0:\n",
    "            raise WizCoinException(\n",
    "                'knuts attr must be a positive int, not ' +\n",
    "                value.__class__.__qualname__\n",
    "            )\n",
    "        self._knuts = value\n",
    "\n",
    "    @property\n",
    "    def total(self):\n",
    "        \"\"\"このWizCoinオブジェクトに含まれる全コインの価値（単位はknuts）\"\"\"\n",
    "        return (self.galleons * 17 * 29) + (self.sickles * 29) + (self.knuts)"
   ]
  },
  {
   "cell_type": "code",
   "execution_count": null,
   "metadata": {},
   "outputs": [],
   "source": [
    "purse = WizCoin(2, 5, 10)\n",
    "print(purse.total)\n",
    "purse.total = 1000  # エラーになる"
   ]
  },
  {
   "cell_type": "markdown",
   "metadata": {},
   "source": [
    "### 17.1.4 どんな場合にプロパティを使うべきか"
   ]
  },
  {
   "cell_type": "markdown",
   "metadata": {},
   "source": [
    "## 17.2 ダンダーメソッド\n",
    "\n",
    "- ダンダーメソッド\n",
    "- スペシャルメソッド\n",
    "- マジックメソッド\n",
    "  - ダブルアンダースコアで始まり、ダブルアンダースコアで終わるメソッド名\n",
    "  - 「double underscores」 -> 「dunder」\n",
    "  - `__init__()`\n",
    "- https://docs.python.org/ja/3/reference/datamodel.html"
   ]
  },
  {
   "cell_type": "markdown",
   "metadata": {},
   "source": [
    "### 17.2.1 文字列表現のダンダーメソッド"
   ]
  },
  {
   "cell_type": "code",
   "execution_count": null,
   "metadata": {},
   "outputs": [],
   "source": [
    "import datetime\n",
    "\n",
    "newyears = datetime.date(2021, 1, 1)\n",
    "print(repr(newyears))\n",
    "print(str(newyears))\n",
    "newyears"
   ]
  },
  {
   "cell_type": "code",
   "execution_count": null,
   "metadata": {},
   "outputs": [],
   "source": [
    "purse = WizCoin(2, 5, 10)\n",
    "print(str(purse))\n",
    "print(repr(purse))\n",
    "purse"
   ]
  },
  {
   "cell_type": "code",
   "execution_count": null,
   "metadata": {},
   "outputs": [],
   "source": [
    "import wizcoin\n",
    "\n",
    "purse = wizcoin.WizCoin(2, 5, 10)\n",
    "print(repr(purse))  # 内部でWizCoinの__repr__()が呼ばれる\n",
    "print(str(purse))  # 内部でWizCoinの__str__()が呼ばれる\n",
    "purse\n"
   ]
  },
  {
   "cell_type": "markdown",
   "metadata": {},
   "source": [
    "### 17.2.2 数値演算ダンダーメソッド\n",
    "\n",
    "- https://autbor.com/wizcoinfull"
   ]
  },
  {
   "cell_type": "code",
   "execution_count": null,
   "metadata": {},
   "outputs": [],
   "source": [
    "import wizcoin\n",
    "\n",
    "purse = wizcoin.WizCoin(2, 5, 10)\n",
    "tipJar = wizcoin.WizCoin(0, 0, 37)\n",
    "purse + tipJar  # error\n",
    "# TypeError: unsupported operand type(s) for +: 'WizCoin' and 'WizCoin'"
   ]
  },
  {
   "cell_type": "code",
   "execution_count": null,
   "metadata": {},
   "outputs": [],
   "source": [
    "import wizcoin\n",
    "\n",
    "purse = wizcoin.WizCoin(2, 5, 10)\n",
    "tipJar = wizcoin.WizCoin(0, 0, 37)\n",
    "purse + tipJar"
   ]
  },
  {
   "cell_type": "code",
   "execution_count": null,
   "metadata": {},
   "outputs": [],
   "source": [
    "import wizcoin\n",
    "\n",
    "purse = wizcoin.WizCoin(2, 5, 10)\n",
    "purse * 42"
   ]
  },
  {
   "cell_type": "code",
   "execution_count": null,
   "metadata": {},
   "outputs": [],
   "source": [
    "purse * (-2)"
   ]
  },
  {
   "cell_type": "markdown",
   "metadata": {},
   "source": [
    "### 17.2.3 反射型数値演算ダンダーメソッド"
   ]
  },
  {
   "cell_type": "code",
   "execution_count": null,
   "metadata": {},
   "outputs": [],
   "source": [
    "import wizcoin\n",
    "\n",
    "purse = wizcoin.WizCoin(2, 5, 10)\n",
    "purse * 10"
   ]
  },
  {
   "cell_type": "code",
   "execution_count": null,
   "metadata": {},
   "outputs": [],
   "source": [
    "10 * purse"
   ]
  },
  {
   "cell_type": "markdown",
   "metadata": {},
   "source": [
    "### 17.2.4 代入型ダンダーメソッド"
   ]
  },
  {
   "cell_type": "code",
   "execution_count": 6,
   "metadata": {},
   "outputs": [
    {
     "data": {
      "text/plain": [
       "WizCoin(2, 5, 47)"
      ]
     },
     "execution_count": 6,
     "metadata": {},
     "output_type": "execute_result"
    }
   ],
   "source": [
    "import wizcoin\n",
    "\n",
    "purse = wizcoin.WizCoin(2, 5, 10)\n",
    "tipJar = wizcoin.WizCoin(0, 0, 37)\n",
    "purse + tipJar"
   ]
  },
  {
   "cell_type": "code",
   "execution_count": 7,
   "metadata": {},
   "outputs": [
    {
     "data": {
      "text/plain": [
       "WizCoin(2, 5, 10)"
      ]
     },
     "execution_count": 7,
     "metadata": {},
     "output_type": "execute_result"
    }
   ],
   "source": [
    "purse"
   ]
  },
  {
   "cell_type": "code",
   "execution_count": 8,
   "metadata": {},
   "outputs": [
    {
     "data": {
      "text/plain": [
       "WizCoin(0, 0, 37)"
      ]
     },
     "execution_count": 8,
     "metadata": {},
     "output_type": "execute_result"
    }
   ],
   "source": [
    "tipJar"
   ]
  },
  {
   "cell_type": "code",
   "execution_count": 9,
   "metadata": {},
   "outputs": [
    {
     "data": {
      "text/plain": [
       "WizCoin(2, 5, 47)"
      ]
     },
     "execution_count": 9,
     "metadata": {},
     "output_type": "execute_result"
    }
   ],
   "source": [
    "purse += tipJar\n",
    "purse"
   ]
  },
  {
   "cell_type": "code",
   "execution_count": 10,
   "metadata": {},
   "outputs": [
    {
     "data": {
      "text/plain": [
       "WizCoin(20, 50, 470)"
      ]
     },
     "execution_count": 10,
     "metadata": {},
     "output_type": "execute_result"
    }
   ],
   "source": [
    "purse *= 10\n",
    "purse"
   ]
  },
  {
   "cell_type": "markdown",
   "metadata": {},
   "source": [
    "### 17.2.5 比較ダンダーメソッド"
   ]
  },
  {
   "cell_type": "code",
   "execution_count": 12,
   "metadata": {},
   "outputs": [],
   "source": [
    "import operator"
   ]
  },
  {
   "cell_type": "code",
   "execution_count": 13,
   "metadata": {},
   "outputs": [
    {
     "data": {
      "text/plain": [
       "True"
      ]
     },
     "execution_count": 13,
     "metadata": {},
     "output_type": "execute_result"
    }
   ],
   "source": [
    "# \"eq\"は\"Equal\"の略で、42 == 42という意味\n",
    "operator.eq(42, 42)"
   ]
  },
  {
   "cell_type": "code",
   "execution_count": 14,
   "metadata": {},
   "outputs": [
    {
     "data": {
      "text/plain": [
       "True"
      ]
     },
     "execution_count": 14,
     "metadata": {},
     "output_type": "execute_result"
    }
   ],
   "source": [
    "# \"ne\"は\"Not Equal\"の略で、'cat != 'dog'という意味\n",
    "operator.ne('cat', 'dog')"
   ]
  },
  {
   "cell_type": "code",
   "execution_count": 19,
   "metadata": {},
   "outputs": [
    {
     "data": {
      "text/plain": [
       "True"
      ]
     },
     "execution_count": 19,
     "metadata": {},
     "output_type": "execute_result"
    }
   ],
   "source": [
    "# \"gt\"は\"Greater Than\"の略で、20 > 10という意味\n",
    "operator.gt(20, 10)"
   ]
  },
  {
   "cell_type": "code",
   "execution_count": 17,
   "metadata": {},
   "outputs": [
    {
     "data": {
      "text/plain": [
       "True"
      ]
     },
     "execution_count": 17,
     "metadata": {},
     "output_type": "execute_result"
    }
   ],
   "source": [
    "# \"ge\"は\"Grater than or Equal\"の略で、10 >= 10という意味\n",
    "operator.ge(10, 10)"
   ]
  },
  {
   "cell_type": "code",
   "execution_count": 18,
   "metadata": {},
   "outputs": [
    {
     "data": {
      "text/plain": [
       "True"
      ]
     },
     "execution_count": 18,
     "metadata": {},
     "output_type": "execute_result"
    }
   ],
   "source": [
    "# \"lt\"は\"Less Than\"の略で、10 < 20という意味\n",
    "operator.lt(10, 20)"
   ]
  },
  {
   "cell_type": "code",
   "execution_count": 20,
   "metadata": {},
   "outputs": [
    {
     "data": {
      "text/plain": [
       "True"
      ]
     },
     "execution_count": 20,
     "metadata": {},
     "output_type": "execute_result"
    }
   ],
   "source": [
    "# \"le\"は\"Less than or Equal\"の略で、10 <= 20という意味\n",
    "operator.le(10, 20)"
   ]
  },
  {
   "cell_type": "code",
   "execution_count": 1,
   "metadata": {},
   "outputs": [],
   "source": [
    "import wizcoin"
   ]
  },
  {
   "cell_type": "code",
   "execution_count": 2,
   "metadata": {},
   "outputs": [
    {
     "data": {
      "text/plain": [
       "(1141, 37)"
      ]
     },
     "execution_count": 2,
     "metadata": {},
     "output_type": "execute_result"
    }
   ],
   "source": [
    "purse = wizcoin.WizCoin(2, 5, 10)\n",
    "tipJar = wizcoin.WizCoin(0, 0, 37)\n",
    "purse.total, tipJar.total"
   ]
  },
  {
   "cell_type": "code",
   "execution_count": 3,
   "metadata": {},
   "outputs": [
    {
     "data": {
      "text/plain": [
       "True"
      ]
     },
     "execution_count": 3,
     "metadata": {},
     "output_type": "execute_result"
    }
   ],
   "source": [
    "purse > tipJar"
   ]
  },
  {
   "cell_type": "code",
   "execution_count": 4,
   "metadata": {},
   "outputs": [
    {
     "data": {
      "text/plain": [
       "False"
      ]
     },
     "execution_count": 4,
     "metadata": {},
     "output_type": "execute_result"
    }
   ],
   "source": [
    "purse < tipJar"
   ]
  },
  {
   "cell_type": "code",
   "execution_count": 5,
   "metadata": {},
   "outputs": [
    {
     "data": {
      "text/plain": [
       "True"
      ]
     },
     "execution_count": 5,
     "metadata": {},
     "output_type": "execute_result"
    }
   ],
   "source": [
    "purse > 1000"
   ]
  },
  {
   "cell_type": "code",
   "execution_count": 6,
   "metadata": {},
   "outputs": [
    {
     "data": {
      "text/plain": [
       "False"
      ]
     },
     "execution_count": 6,
     "metadata": {},
     "output_type": "execute_result"
    }
   ],
   "source": [
    "purse <= 1000"
   ]
  },
  {
   "cell_type": "code",
   "execution_count": 7,
   "metadata": {},
   "outputs": [
    {
     "data": {
      "text/plain": [
       "True"
      ]
     },
     "execution_count": 7,
     "metadata": {},
     "output_type": "execute_result"
    }
   ],
   "source": [
    "purse == 1141"
   ]
  },
  {
   "cell_type": "code",
   "execution_count": 8,
   "metadata": {},
   "outputs": [
    {
     "data": {
      "text/plain": [
       "True"
      ]
     },
     "execution_count": 8,
     "metadata": {},
     "output_type": "execute_result"
    }
   ],
   "source": [
    "purse == 1141.0"
   ]
  },
  {
   "cell_type": "code",
   "execution_count": 9,
   "metadata": {},
   "outputs": [
    {
     "data": {
      "text/plain": [
       "False"
      ]
     },
     "execution_count": 9,
     "metadata": {},
     "output_type": "execute_result"
    }
   ],
   "source": [
    "purse == '1141'"
   ]
  },
  {
   "cell_type": "code",
   "execution_count": 10,
   "metadata": {},
   "outputs": [
    {
     "data": {
      "text/plain": [
       "True"
      ]
     },
     "execution_count": 10,
     "metadata": {},
     "output_type": "execute_result"
    }
   ],
   "source": [
    "bagOfKnuts = wizcoin.WizCoin(0, 0, 1141)\n",
    "purse == bagOfKnuts"
   ]
  },
  {
   "cell_type": "code",
   "execution_count": 11,
   "metadata": {},
   "outputs": [
    {
     "data": {
      "text/plain": [
       "True"
      ]
     },
     "execution_count": 11,
     "metadata": {},
     "output_type": "execute_result"
    }
   ],
   "source": [
    "purse == (2, 5, 10)"
   ]
  },
  {
   "cell_type": "code",
   "execution_count": 12,
   "metadata": {},
   "outputs": [
    {
     "data": {
      "text/plain": [
       "True"
      ]
     },
     "execution_count": 12,
     "metadata": {},
     "output_type": "execute_result"
    }
   ],
   "source": [
    "purse >= [2, 5, 10]"
   ]
  },
  {
   "cell_type": "code",
   "execution_count": 13,
   "metadata": {},
   "outputs": [
    {
     "ename": "IndexError",
     "evalue": "list index out of range",
     "output_type": "error",
     "traceback": [
      "\u001b[0;31m---------------------------------------------------------------------------\u001b[0m",
      "\u001b[0;31mIndexError\u001b[0m                                Traceback (most recent call last)",
      "\u001b[1;32m/Users/takeru/Library/CloudStorage/OneDrive-個人用/Learn/Python/Beyond_the_Basic_Stuff_with_Python_mynavi/jupyter/ch_17.ipynb Cell 33'\u001b[0m in \u001b[0;36m<cell line: 1>\u001b[0;34m()\u001b[0m\n\u001b[0;32m----> <a href='vscode-notebook-cell:/Users/takeru/Library/CloudStorage/OneDrive-%E5%80%8B%E4%BA%BA%E7%94%A8/Learn/Python/Beyond_the_Basic_Stuff_with_Python_mynavi/jupyter/ch_17.ipynb#ch0000033?line=0'>1</a>\u001b[0m purse \u001b[39m>\u001b[39;49m\u001b[39m=\u001b[39;49m [\u001b[39m'\u001b[39;49m\u001b[39mcat\u001b[39;49m\u001b[39m'\u001b[39;49m, \u001b[39m'\u001b[39;49m\u001b[39mdog\u001b[39;49m\u001b[39m'\u001b[39;49m]\n",
      "File \u001b[0;32m~/Library/CloudStorage/OneDrive-個人用/Learn/Python/Beyond_the_Basic_Stuff_with_Python_mynavi/jupyter/wizcoin.py:178\u001b[0m, in \u001b[0;36mWizCoin.__ge__\u001b[0;34m(self, other)\u001b[0m\n\u001b[1;32m    177\u001b[0m \u001b[39mdef\u001b[39;00m \u001b[39m__ge__\u001b[39m(\u001b[39mself\u001b[39m, other):  \u001b[39m# geは\"Greater than or Equal(>=)\"\u001b[39;00m\n\u001b[0;32m--> 178\u001b[0m     \u001b[39mreturn\u001b[39;00m \u001b[39mself\u001b[39;49m\u001b[39m.\u001b[39;49m_comparisonOperatorHelper(operator\u001b[39m.\u001b[39;49mge, other)\n",
      "File \u001b[0;32m~/Library/CloudStorage/OneDrive-個人用/Learn/Python/Beyond_the_Basic_Stuff_with_Python_mynavi/jupyter/wizcoin.py:153\u001b[0m, in \u001b[0;36mWizCoin._comparisonOperatorHelper\u001b[0;34m(self, operatorFunc, other)\u001b[0m\n\u001b[1;32m    151\u001b[0m     \u001b[39mreturn\u001b[39;00m operatorFunc(\u001b[39mself\u001b[39m\u001b[39m.\u001b[39mtotal, other)\n\u001b[1;32m    152\u001b[0m \u001b[39melif\u001b[39;00m \u001b[39misinstance\u001b[39m(other, collections\u001b[39m.\u001b[39mabc\u001b[39m.\u001b[39mSequence):\n\u001b[0;32m--> 153\u001b[0m     otherValue \u001b[39m=\u001b[39m (other[\u001b[39m0\u001b[39m] \u001b[39m*\u001b[39m \u001b[39m17\u001b[39m \u001b[39m*\u001b[39m \u001b[39m29\u001b[39m) \u001b[39m+\u001b[39m (other[\u001b[39m1\u001b[39m] \u001b[39m*\u001b[39m \u001b[39m29\u001b[39m) \u001b[39m+\u001b[39m other[\u001b[39m2\u001b[39;49m]\n\u001b[1;32m    154\u001b[0m     \u001b[39mreturn\u001b[39;00m operatorFunc(\u001b[39mself\u001b[39m\u001b[39m.\u001b[39mtotal, otherValue)\n\u001b[1;32m    155\u001b[0m \u001b[39melif\u001b[39;00m operatorFunc \u001b[39m==\u001b[39m operator\u001b[39m.\u001b[39meq:\n",
      "\u001b[0;31mIndexError\u001b[0m: list index out of range"
     ]
    }
   ],
   "source": [
    "purse >= ['cat', 'dog']"
   ]
  },
  {
   "cell_type": "code",
   "execution_count": 14,
   "metadata": {},
   "outputs": [
    {
     "data": {
      "text/plain": [
       "[WizCoin(0, 0, 1), WizCoin(0, 1, 0), 100, WizCoin(1, 0, 0)]"
      ]
     },
     "execution_count": 14,
     "metadata": {},
     "output_type": "execute_result"
    }
   ],
   "source": [
    "import wizcoin\n",
    "\n",
    "oneGalleon = wizcoin.WizCoin(1, 0, 0)\n",
    "oneSickle = wizcoin.WizCoin(0, 1, 0)\n",
    "oneKnut = wizcoin.WizCoin(0, 0, 1)\n",
    "coins = [oneGalleon, oneSickle, oneKnut, 100]\n",
    "coins.sort()\n",
    "coins"
   ]
  }
 ],
 "metadata": {
  "kernelspec": {
   "display_name": "Python 3.9.13 64-bit",
   "language": "python",
   "name": "python3"
  },
  "language_info": {
   "codemirror_mode": {
    "name": "ipython",
    "version": 3
   },
   "file_extension": ".py",
   "mimetype": "text/x-python",
   "name": "python",
   "nbconvert_exporter": "python",
   "pygments_lexer": "ipython3",
   "version": "3.9.13"
  },
  "orig_nbformat": 4,
  "vscode": {
   "interpreter": {
    "hash": "aee8b7b246df8f9039afb4144a1f6fd8d2ca17a180786b69acc140d282b71a49"
   }
  }
 },
 "nbformat": 4,
 "nbformat_minor": 2
}
